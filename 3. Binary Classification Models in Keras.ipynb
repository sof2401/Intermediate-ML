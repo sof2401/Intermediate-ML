{
 "cells": [
  {
   "cell_type": "code",
   "execution_count": null,
   "id": "9a9beee8-3ab8-406a-8b1f-aecfff39631d",
   "metadata": {},
   "outputs": [],
   "source": [
    "import pandas as pd\n",
    "import numpy as np\n",
    "import matplotlib.pyplot as plt\n",
    " \n",
    "#Keras\n",
    "from tensorflow.keras import Sequential\n",
    "from tensorflow.keras import metrics\n",
    "from tensorflow.keras.layers import Dense, Dropout\n",
    " \n",
    "#Sci-kit Learn\n",
    "from sklearn.metrics import classification_report, ConfusionMatrixDisplay\n",
    "from sklearn.preprocessing import StandardScaler\n",
    "from sklearn.model_selection import train_test_split"
   ]
  },
  {
   "cell_type": "code",
   "execution_count": null,
   "id": "74a17384-5003-49fd-aac3-0edf09d36e3c",
   "metadata": {},
   "outputs": [],
   "source": [
    "# Custom function for plotting each metric\n",
    "def plot_history(history, figsize=(6,12), marker='o'):\n",
    "       \n",
    "    # Get list of metrics from history\n",
    "    metrics = [c for c in history.history if not c.startswith('val_')]\n",
    "    \n",
    "    ## Separate row for each metric\n",
    "    fig, axes = plt.subplots(nrows=len(metrics),figsize=figsize)\n",
    "    \n",
    "    # For each metric\n",
    "    for i, metric_name in enumerate(metrics):\n",
    "    \n",
    "        # Get the axis for the current metric\n",
    "        ax = axes[i]\n",
    "    \n",
    "        # Get metric from history.history\n",
    "        metric_values = history.history[metric_name]\n",
    "        # Get epochs from history\n",
    "        epochs = history.epoch\n",
    "    \n",
    "        # Plot the training metric\n",
    "        ax.plot(epochs, metric_values, label=metric_name, marker=marker)\n",
    "    \n",
    "        ## Check if val_{metric} exists. if so, plot:\n",
    "        val_metric_name = f\"val_{metric_name}\"\n",
    "        if val_metric_name in history.history:\n",
    "            # Get validation values and plot\n",
    "            metric_values = history.history[val_metric_name]\n",
    "            ax.plot(epochs,metric_values,label=val_metric_name, marker=marker)\n",
    "    \n",
    "        # Final subplot adjustments \n",
    "        ax.legend()\n",
    "        ax.set_title(metric_name)\n",
    "    fig.tight_layout()\n",
    "\n",
    "    return fig, axes"
   ]
  },
  {
   "cell_type": "code",
   "execution_count": null,
   "id": "ed852553-dd12-4d7f-b88b-ed61964a3aa5",
   "metadata": {},
   "outputs": [],
   "source": [
    "# load classification data\n",
    "clf_url = 'https://docs.google.com/spreadsheets/d/e/2PACX-1vTZf6XIYPLjxmCS8BzzEot1DaW4ns7P2q1CVqnZ6qw9f-A3bkCPbXX3H9vOE2_zrGKSxy4ZMaTf7lt4/pub?output=csv'\n",
    "df_clf = pd.read_csv(clf_url)\n",
    "df_clf.head()"
   ]
  },
  {
   "cell_type": "code",
   "execution_count": null,
   "id": "06ea5f40-9db2-4b82-9e81-3ae0589341e1",
   "metadata": {},
   "outputs": [],
   "source": [
    "# check for duplicates and null values\n",
    "print(f'data info: {df_clf.info()}')\n",
    "print(f'\\n duplicate rows: {df_clf.duplicated().sum()}')"
   ]
  },
  {
   "cell_type": "code",
   "execution_count": null,
   "id": "370a470c-4185-4650-ad9b-80ac836ef67c",
   "metadata": {},
   "outputs": [],
   "source": [
    "# drop id and encode diagnosis\n",
    "df_clf.drop(columns='id', inplace=True)\n",
    "df_clf['diagnosis'].replace(['M','B'],[1,0], inplace=True)\n",
    "df_clf.head()"
   ]
  },
  {
   "cell_type": "code",
   "execution_count": null,
   "id": "ef756e46-01b6-43c8-8a15-232516a911ad",
   "metadata": {},
   "outputs": [],
   "source": [
    "# check classes and balance\n",
    "df_clf['diagnosis'].value_counts()"
   ]
  },
  {
   "cell_type": "code",
   "execution_count": null,
   "id": "ecd03fc1-95e9-4c76-a1e7-b7bd829ea207",
   "metadata": {},
   "outputs": [],
   "source": [
    "# split data\n",
    " \n",
    "X = df_clf.drop(columns='diagnosis')\n",
    "y = df_clf['diagnosis']\n",
    " \n",
    "X_train, X_test, y_train, y_test = train_test_split(X, y, random_state=42)"
   ]
  },
  {
   "cell_type": "code",
   "execution_count": null,
   "id": "52eafcbb-d0e5-42a1-b75a-864ac98c804d",
   "metadata": {},
   "outputs": [],
   "source": [
    "# scale data\n",
    " \n",
    "scaler = StandardScaler()\n",
    " \n",
    "X_train_tf = scaler.fit_transform(X_train)\n",
    "X_test_tf = scaler.transform(X_test)"
   ]
  },
  {
   "cell_type": "code",
   "execution_count": null,
   "id": "3c1aa2fb-d54b-4e20-91e1-205305dbf93b",
   "metadata": {},
   "outputs": [],
   "source": [
    "# define input shape\n",
    "input_shape = X_train_tf.shape[1]\n",
    "input_shape"
   ]
  },
  {
   "cell_type": "code",
   "execution_count": null,
   "id": "fd30e43a-cb68-487a-a84b-2324614feb72",
   "metadata": {},
   "outputs": [],
   "source": [
    "# Build binary classification model within function\n",
    "def build_model():\n",
    "    # Instantiate Model \n",
    "    model = Sequential()\n",
    "    \n",
    "    # First hidden layer\n",
    "    model.add(Dense(10, # How many neurons you have in your first hidden layer\n",
    "                input_dim =input_shape, # What is the shape of your input features (number of columns)\n",
    "                activation = 'relu')) # What activation function are you using?\n",
    "    model.add(Dense(10, \n",
    "                activation = 'relu'))\n",
    "    model.add(Dropout(.2))\n",
    "    model.add(Dense(1, activation = 'sigmoid'))\n",
    "    \n",
    "    # Compile Model\n",
    "    model.compile(loss = 'bce', optimizer = 'adam',\n",
    "             metrics=['accuracy', metrics.Precision(), metrics.Recall()])\n",
    "    return model"
   ]
  },
  {
   "cell_type": "code",
   "execution_count": null,
   "id": "01ba02ff-43df-4c57-a4f6-86e3e42fb5b4",
   "metadata": {},
   "outputs": [],
   "source": [
    "# Call our build function to build model\n",
    "clf_model = build_model()\n",
    "\n",
    "# Get model summary\n",
    "clf_model.summary()"
   ]
  },
  {
   "cell_type": "code",
   "execution_count": null,
   "id": "c4983308-e4ea-4295-906e-2ef2d3ed2e85",
   "metadata": {},
   "outputs": [],
   "source": [
    "from tensorflow.keras.callbacks import EarlyStopping\n",
    "early_stop = EarlyStopping(monitor='val_loss', patience=3)"
   ]
  },
  {
   "cell_type": "code",
   "execution_count": null,
   "id": "3a946103-4daa-412d-bf49-c847bd12c5cf",
   "metadata": {},
   "outputs": [],
   "source": [
    "history = clf_model.fit(X_train_tf, y_train,\n",
    "                        validation_split=.2,\n",
    "                        epochs=100,\n",
    "                        verbose=0, callbacks = [early_stop])"
   ]
  },
  {
   "cell_type": "code",
   "execution_count": null,
   "id": "5ed1de51-ac70-46bf-8a34-76f43be6be0e",
   "metadata": {},
   "outputs": [],
   "source": [
    "# plot learning history\n",
    "plot_history(history);"
   ]
  },
  {
   "cell_type": "code",
   "execution_count": null,
   "id": "a6cde953-1443-4efe-bc52-1e98159ee207",
   "metadata": {},
   "outputs": [],
   "source": [
    "# make predictions\n",
    "y_pred_test = clf_model.predict(X_test_tf)\n",
    "y_pred_test[:5]"
   ]
  },
  {
   "cell_type": "code",
   "execution_count": null,
   "id": "cb0765dd-69d2-411b-ba77-00b4ba2a1f7b",
   "metadata": {},
   "outputs": [],
   "source": [
    "# round the predictions\n",
    "y_pred_test = np.round(y_pred_test)\n",
    "y_pred_test[:5]"
   ]
  },
  {
   "cell_type": "code",
   "execution_count": null,
   "id": "bc0455f5-6bbc-4d70-9b25-5e6ece2b6595",
   "metadata": {},
   "outputs": [],
   "source": [
    "from sklearn.metrics import classification_report,ConfusionMatrixDisplay\n",
    "print(classification_report(y_test, y_pred_test))\n",
    " \n",
    "ConfusionMatrixDisplay.from_predictions(y_test, y_pred_test, cmap='Blues',\n",
    "                                       normalize='true');"
   ]
  },
  {
   "cell_type": "code",
   "execution_count": null,
   "id": "28cb4cf2-173e-4e0e-8c1c-c2afda34c555",
   "metadata": {},
   "outputs": [],
   "source": []
  }
 ],
 "metadata": {
  "kernelspec": {
   "display_name": "Python (dojo-env)",
   "language": "python",
   "name": "dojo-env"
  },
  "language_info": {
   "codemirror_mode": {
    "name": "ipython",
    "version": 3
   },
   "file_extension": ".py",
   "mimetype": "text/x-python",
   "name": "python",
   "nbconvert_exporter": "python",
   "pygments_lexer": "ipython3",
   "version": "3.10.10"
  }
 },
 "nbformat": 4,
 "nbformat_minor": 5
}
