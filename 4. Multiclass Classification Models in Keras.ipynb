{
 "cells": [
  {
   "cell_type": "code",
   "execution_count": null,
   "id": "6850155b-81ce-4c8b-8e25-b3bdd3a11cda",
   "metadata": {},
   "outputs": [],
   "source": [
    "import pandas as pd\n",
    "import numpy as np\n",
    "import matplotlib.pyplot as plt\n",
    " \n",
    "#Keras\n",
    "from tensorflow.keras import Sequential\n",
    "from tensorflow.keras import metrics\n",
    "from tensorflow.keras.layers import Dense, Dropout\n",
    " \n",
    "#Sci-kit Learn\n",
    "from sklearn.metrics import classification_report, ConfusionMatrixDisplay\n",
    "from sklearn.preprocessing import StandardScaler\n",
    "from sklearn.model_selection import train_test_split"
   ]
  },
  {
   "cell_type": "code",
   "execution_count": null,
   "id": "13de5692-a6f4-4c15-8bfa-703ab299f90d",
   "metadata": {},
   "outputs": [],
   "source": [
    "def classification_metrics(y_true, y_pred, label='',\n",
    "                           output_dict=False, figsize=(8,4),\n",
    "                           normalize='true', cmap='Blues',\n",
    "                           colorbar=False):\n",
    "    \n",
    "    # Get the classification report\n",
    "    report = classification_report(y_true, y_pred)\n",
    "    ## Print header and report\n",
    "    header = \"-\"*70\n",
    "    print(header, f\" Classification Metrics: {label}\", header, sep='\\n')\n",
    "    print(report)\n",
    "    \n",
    "    ## CONFUSION MATRICES SUBPLOTS\n",
    "    fig, axes = plt.subplots(ncols=2, figsize=figsize)\n",
    "    \n",
    "    # create a confusion matrix  of raw counts\n",
    "    ConfusionMatrixDisplay.from_predictions(y_true, y_pred,\n",
    "                normalize=None, cmap='gist_gray', values_format=\"d\", colorbar=colorbar,\n",
    "                ax = axes[0],);\n",
    "    axes[0].set_title(\"Raw Counts\")\n",
    "    \n",
    "    # create a confusion matrix with the test data\n",
    "    ConfusionMatrixDisplay.from_predictions(y_true, y_pred,\n",
    "                normalize=normalize, cmap=cmap, values_format=\".2f\", colorbar=colorbar,\n",
    "                ax = axes[1]);\n",
    "    axes[1].set_title(\"Normalized Confusion Matrix\")\n",
    "    \n",
    "    # Adjust layout and show figure\n",
    "    fig.tight_layout()\n",
    "    plt.show()\n",
    "    \n",
    "    # Return dictionary of classification_report\n",
    "    if output_dict==True:\n",
    "        report_dict = classification_report(y_true, y_pred, output_dict=True)\n",
    "        return report_dict"
   ]
  },
  {
   "cell_type": "code",
   "execution_count": null,
   "id": "ad9cd9fe-421c-4fbf-b255-c8e2691c020b",
   "metadata": {},
   "outputs": [],
   "source": [
    "# Custom function for plotting each metric\n",
    "def plot_history(history, figsize=(6,12), marker='o'):\n",
    "       \n",
    "    # Get list of metrics from history\n",
    "    metrics = [c for c in history.history if not c.startswith('val_')]\n",
    "    \n",
    "    ## Separate row for each metric\n",
    "    fig, axes = plt.subplots(nrows=len(metrics),figsize=figsize)\n",
    "    \n",
    "    # For each metric\n",
    "    for i, metric_name in enumerate(metrics):\n",
    "    \n",
    "        # Get the axis for the current metric\n",
    "        ax = axes[i]\n",
    "    \n",
    "        # Get metric from history.history\n",
    "        metric_values = history.history[metric_name]\n",
    "        # Get epochs from history\n",
    "        epochs = history.epoch\n",
    "    \n",
    "        # Plot the training metric\n",
    "        ax.plot(epochs, metric_values, label=metric_name, marker=marker)\n",
    "    \n",
    "        ## Check if val_{metric} exists. if so, plot:\n",
    "        val_metric_name = f\"val_{metric_name}\"\n",
    "        if val_metric_name in history.history:\n",
    "            # Get validation values and plot\n",
    "            metric_values = history.history[val_metric_name]\n",
    "            ax.plot(epochs,metric_values,label=val_metric_name, marker=marker)\n",
    "    \n",
    "        # Final subplot adjustments \n",
    "        ax.legend()\n",
    "        ax.set_title(metric_name)\n",
    "    fig.tight_layout()\n",
    "\n",
    "    return fig, axes"
   ]
  },
  {
   "cell_type": "code",
   "execution_count": null,
   "id": "6685be46-7302-4c4c-baf0-1c0106051f51",
   "metadata": {},
   "outputs": [],
   "source": [
    "# Load Data\n",
    "multi_url = 'https://docs.google.com/spreadsheets/d/e/2PACX-1vR_I2xiiboTvyDr5-Cvvo_m7tnoT2tVnzOWUYf2xBZEhTWiWtZOyerF3c2aQeym10S8T2yHnTPnlPi2/pub?output=csv'\n",
    "df_multi = pd.read_csv(multi_url)\n",
    "df_multi.head()"
   ]
  },
  {
   "cell_type": "code",
   "execution_count": null,
   "id": "03d151a3-441f-4b75-8550-8f6523e6504d",
   "metadata": {},
   "outputs": [],
   "source": [
    "# Check for duplicates and missing data\n",
    "print(df_multi.info())\n",
    "print(f'{df_multi.duplicated().sum()} duplicate rows')"
   ]
  },
  {
   "cell_type": "code",
   "execution_count": null,
   "id": "5faf44ba-470d-46e0-8496-e40e5e6ff45a",
   "metadata": {},
   "outputs": [],
   "source": [
    "# count rows with missing values\n",
    "na_rows = df_multi.isna().any(axis=1).sum()\n",
    "print(f'{na_rows} rows are missing data')\n",
    "print(f'{na_rows/len(df_multi)*100:.1f}% of rows are missing data')"
   ]
  },
  {
   "cell_type": "code",
   "execution_count": null,
   "id": "7be4047d-f06c-4712-80d1-629558d2c948",
   "metadata": {},
   "outputs": [],
   "source": [
    "# drop missing data\n",
    "df_multi.dropna(inplace=True)\n",
    "print(df_multi.info())"
   ]
  },
  {
   "cell_type": "code",
   "execution_count": null,
   "id": "68e6a347-9a9b-4360-b970-4a8dde03e0c0",
   "metadata": {},
   "outputs": [],
   "source": [
    "# check class balance\n",
    "df_multi['Species'].value_counts()"
   ]
  },
  {
   "cell_type": "code",
   "execution_count": null,
   "id": "3bf7e60a-d384-46a7-80fa-277c4e9ef285",
   "metadata": {},
   "outputs": [],
   "source": [
    "df_multi['Species'].replace('Beam', 'Bream', inplace=True)"
   ]
  },
  {
   "cell_type": "code",
   "execution_count": null,
   "id": "9ff51372-f43b-4fde-bff0-49f636cf4eeb",
   "metadata": {},
   "outputs": [],
   "source": [
    "# split data\n",
    "X = df_multi.drop(columns='Species')\n",
    "y = df_multi['Species']\n",
    "X_train, X_test, y_train, y_test = train_test_split(X, y,\n",
    "                                                    random_state=42,\n",
    "                                                    stratify=y)"
   ]
  },
  {
   "cell_type": "code",
   "execution_count": null,
   "id": "a6c0c771-a046-4276-bbc3-e4659db11e50",
   "metadata": {},
   "outputs": [],
   "source": [
    "# scale data\n",
    "scaler = StandardScaler()\n",
    " \n",
    "X_train_tf = scaler.fit_transform(X_train)\n",
    "X_test_tf = scaler.transform(X_test)"
   ]
  },
  {
   "cell_type": "code",
   "execution_count": null,
   "id": "ea2dbc3e-9589-4441-84b8-673f6ff3e205",
   "metadata": {},
   "outputs": [],
   "source": [
    "# Encode the Target\n",
    "\n",
    "from sklearn.preprocessing import LabelEncoder, LabelBinarizer\n",
    "# encode labels\n",
    "encoder = LabelEncoder()\n",
    " \n",
    "encoder.fit(y_train)\n",
    "y_train_enc = encoder.transform(y_train)\n",
    "y_test_enc = encoder.transform(y_test)\n",
    " \n",
    "# make a record of the classes, in order of the encoding, in case we want to \n",
    "# translate predictions into fish names later.\n",
    "classes = encoder.classes_\n",
    " \n",
    "# binarize labels\n",
    "binarizer = LabelBinarizer()\n",
    " \n",
    "binarizer.fit(y_train_enc)\n",
    "y_train_bin = binarizer.transform(y_train_enc)\n",
    "y_test_bin = binarizer.transform(y_test_enc)\n",
    " \n",
    "# check results\n",
    "print('Original Target')\n",
    "print(y_train.head())\n",
    " \n",
    "print('\\nEncoded Target')\n",
    "print(y_train_enc[:5])\n",
    " \n",
    "print('\\nBinarized Target')\n",
    "print(y_train_bin[:5])"
   ]
  },
  {
   "cell_type": "code",
   "execution_count": null,
   "id": "c94d238c-c8e4-4f89-af4e-cbdf05790f4f",
   "metadata": {},
   "outputs": [],
   "source": [
    "# Create the Keras Model\n",
    "\n",
    "# Define input shape\n",
    "input_shape = X_train_tf.shape[1]\n",
    "input_shape"
   ]
  },
  {
   "cell_type": "code",
   "execution_count": null,
   "id": "2bef5607-f31c-4a8a-aa2c-7edebff367aa",
   "metadata": {},
   "outputs": [],
   "source": [
    "# Define number of classes\n",
    "num_classes = len(classes)\n",
    "num_classes"
   ]
  },
  {
   "cell_type": "code",
   "execution_count": null,
   "id": "67649dfc-d2da-4fdf-b0f8-0fe601e20632",
   "metadata": {},
   "outputs": [],
   "source": [
    "# Build multiclass classification model within function\n",
    "def build_model():\n",
    "    # Instantiate Model \n",
    "    model = Sequential()\n",
    "    \n",
    "    # First hidden layer\n",
    "    model.add(Dense(50, # How many neurons you have in your first hidden layer\n",
    "                input_dim =input_shape, # What is the shape of your input features (number of columns)\n",
    "                activation = 'relu')) # What activation function are you using?\n",
    "    model.add(Dense(50, \n",
    "                activation = 'relu'))\n",
    "    model.add(Dropout(.2))\n",
    "    #Output layer\n",
    "    model.add(Dense(num_classes, activation = 'softmax'))\n",
    "   \n",
    "    \n",
    "    # Compile Model\n",
    "    model.compile(loss = 'categorical_crossentropy', optimizer = 'adam',\n",
    "             metrics=['accuracy', metrics.Precision(), metrics.Recall()])\n",
    "    return model"
   ]
  },
  {
   "cell_type": "code",
   "execution_count": null,
   "id": "fc90bc9c-fadf-4cfc-a1a7-f5b62a54cbf3",
   "metadata": {},
   "outputs": [],
   "source": [
    "# Call our build function to build model\n",
    "multi_model = build_model()\n",
    "\n",
    "# Get model summary\n",
    "multi_model.summary()"
   ]
  },
  {
   "cell_type": "code",
   "execution_count": null,
   "id": "fa4c313f-15b5-4802-8da0-f3d6a0b2cc56",
   "metadata": {},
   "outputs": [],
   "source": [
    "# fit model\n",
    " \n",
    "history = multi_model.fit(X_train_tf, y_train_bin,\n",
    "                          validation_split = .2,\n",
    "                          epochs=100,\n",
    "                          verbose=0)"
   ]
  },
  {
   "cell_type": "code",
   "execution_count": null,
   "id": "a4b3bf3a-5b4b-4605-b3bf-7cfa47d2b09c",
   "metadata": {},
   "outputs": [],
   "source": [
    "# plot learning history\n",
    "\n",
    "plot_history(history);"
   ]
  },
  {
   "cell_type": "code",
   "execution_count": null,
   "id": "b086414c-74f7-4582-8a69-96f6fa9410e3",
   "metadata": {},
   "outputs": [],
   "source": [
    "# Evaluate\n",
    "\n",
    "# get raw predictions\n",
    "raw_pred = multi_model.predict(X_test_tf)\n",
    " \n",
    "# display predictions and binarized true labels\n",
    "print('Raw Predictions\\n', raw_pred[:5])\n",
    "print('\\nbinarized y_test\\n', y_test_bin[:5])"
   ]
  },
  {
   "cell_type": "code",
   "execution_count": null,
   "id": "61723542-1b87-48da-bd9e-34c7dc112a4b",
   "metadata": {},
   "outputs": [],
   "source": [
    "# convert predictions and labels into integers representing each fish class.\n",
    "y_pred = np.argmax(raw_pred, axis=1)\n",
    "y_true = np.argmax(y_test_bin, axis=1)\n",
    " \n",
    "print('integer predictions', y_pred)\n",
    "print('integer true labels', y_true)"
   ]
  },
  {
   "cell_type": "code",
   "execution_count": null,
   "id": "664bc437-76eb-45b5-bc48-c2afd440b67d",
   "metadata": {},
   "outputs": [],
   "source": [
    "# Getting Sklearn Metrics\n",
    "classification_metrics(y_true, y_pred, label='Test Data', figsize=(10,8))"
   ]
  },
  {
   "cell_type": "code",
   "execution_count": null,
   "id": "24b68836-a870-48b2-8bd1-098711908d2f",
   "metadata": {},
   "outputs": [],
   "source": []
  }
 ],
 "metadata": {
  "kernelspec": {
   "display_name": "Python (dojo-env)",
   "language": "python",
   "name": "dojo-env"
  },
  "language_info": {
   "codemirror_mode": {
    "name": "ipython",
    "version": 3
   },
   "file_extension": ".py",
   "mimetype": "text/x-python",
   "name": "python",
   "nbconvert_exporter": "python",
   "pygments_lexer": "ipython3",
   "version": "3.10.10"
  }
 },
 "nbformat": 4,
 "nbformat_minor": 5
}
