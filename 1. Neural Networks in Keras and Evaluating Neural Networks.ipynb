{
 "cells": [
  {
   "cell_type": "code",
   "execution_count": null,
   "id": "9414d824-cf67-420e-b217-488fa744634c",
   "metadata": {},
   "outputs": [],
   "source": [
    "# Basic Imports\n",
    "import numpy as np\n",
    "import matplotlib.pyplot as plt\n",
    "import pandas as pd\n",
    "# Preprocessing tools\n",
    "from sklearn.preprocessing import StandardScaler, LabelEncoder, OneHotEncoder\n",
    "from sklearn.model_selection import train_test_split\n",
    "from sklearn.impute import SimpleImputer\n",
    "from sklearn.pipeline import make_pipeline\n",
    "from sklearn.compose import ColumnTransformer\n",
    "# Deep learning tools\n",
    "import tensorflow as tf\n",
    "from tensorflow.keras.models import Sequential\n",
    "from tensorflow.keras.layers import Dense\n",
    "from sklearn import set_config\n",
    "set_config(display='diagram')"
   ]
  },
  {
   "cell_type": "code",
   "execution_count": null,
   "id": "253fcf65-b7a4-4605-9768-ef33d5f77701",
   "metadata": {},
   "outputs": [],
   "source": [
    "df = pd.read_csv(\"Data/cancer.csv\", index_col=0)\n",
    "df.head()"
   ]
  },
  {
   "cell_type": "code",
   "execution_count": null,
   "id": "59e227d4-9a06-462d-ab4f-3e1fcfd552d4",
   "metadata": {},
   "outputs": [],
   "source": [
    "df.isna().sum().sum()"
   ]
  },
  {
   "cell_type": "code",
   "execution_count": null,
   "id": "c6d5b8bf-2d49-4ce7-9b32-65b6a0c48693",
   "metadata": {},
   "outputs": [],
   "source": [
    "target = 'diagnosis'\n",
    "X = df.drop(columns = target)\n",
    "y = df[target]\n",
    "# Train test split\n",
    "X_train, X_test, y_train, y_test = train_test_split(X, y, random_state=42)"
   ]
  },
  {
   "cell_type": "code",
   "execution_count": null,
   "id": "607420a8-3a8e-4a15-8253-5ae796031459",
   "metadata": {},
   "outputs": [],
   "source": [
    "# Convert target to numbers\n",
    "le = LabelEncoder()\n",
    "y_train_enc = le.fit_transform(y_train)\n",
    "y_test_enc = le.transform(y_test)\n",
    "y_train_enc"
   ]
  },
  {
   "cell_type": "code",
   "execution_count": null,
   "id": "efab5b15-efbb-45cd-b214-b4acd6f40c18",
   "metadata": {},
   "outputs": [],
   "source": [
    "# Convert encoded target values to a series\n",
    "y_train_enc = pd.Series(le.transform(y_train), index=y_train.index,\n",
    "             name=target)\n",
    "y_test_enc = pd.Series(le.transform(y_test), index=y_test.index,\n",
    "             name=target)\n",
    "y_train_enc"
   ]
  },
  {
   "cell_type": "code",
   "execution_count": null,
   "id": "b6637c62-684b-4d29-835a-615768dcc438",
   "metadata": {},
   "outputs": [],
   "source": [
    "# Check class balance\n",
    "y_train_enc.value_counts(normalize = True)"
   ]
  },
  {
   "cell_type": "code",
   "execution_count": null,
   "id": "d1533864-b866-48e5-86f3-d2f06ea941c0",
   "metadata": {},
   "outputs": [],
   "source": [
    "# Scale data\n",
    "scaler = StandardScaler()\n",
    "scaler.fit(X_train)\n",
    "X_train_tf = scaler.transform(X_train)\n",
    "X_test_tf = scaler.transform(X_test)"
   ]
  },
  {
   "cell_type": "code",
   "execution_count": null,
   "id": "7aba247b-91b4-4be2-92d1-7fd423dd537d",
   "metadata": {},
   "outputs": [],
   "source": [
    "# Step 1: Define our network structure\n",
    "# Save the number of features we have as our input shape\n",
    "input_shape = X_train_tf.shape[1]\n",
    "input_shape"
   ]
  },
  {
   "cell_type": "code",
   "execution_count": null,
   "id": "760b6fcb-3c64-4e1e-82c7-5675da81212c",
   "metadata": {},
   "outputs": [],
   "source": [
    "# Sequential model\n",
    "model = Sequential()"
   ]
  },
  {
   "cell_type": "code",
   "execution_count": null,
   "id": "24ca2d6a-4ad5-4826-81ad-ea781864cf1e",
   "metadata": {},
   "outputs": [],
   "source": [
    "# First hidden layer\n",
    "model.add(Dense(30, # How many neurons you have in your first hidden layer\n",
    "                input_dim = input_shape, # What is the shape of your input features (number of columns)\n",
    "                activation = 'relu')) # What activation function are you using?\n",
    "# Second hidden layer\n",
    "model.add(Dense(10, # How many neurons you have in your second hidden layer\n",
    "                activation = 'relu')) # What activation function are you using?"
   ]
  },
  {
   "cell_type": "code",
   "execution_count": null,
   "id": "78bb0b9d-65e7-40eb-93b0-716a26132a8b",
   "metadata": {},
   "outputs": [],
   "source": [
    "# Output layer\n",
    "model.add(Dense(1, activation = 'sigmoid'))"
   ]
  },
  {
   "cell_type": "code",
   "execution_count": null,
   "id": "79ad5d0b-74cf-4a7e-bdb1-0e22df4bcb63",
   "metadata": {},
   "outputs": [],
   "source": [
    "# Step 2: Compile\n",
    "model.compile(loss = 'bce', optimizer = 'adam',)"
   ]
  },
  {
   "cell_type": "code",
   "execution_count": null,
   "id": "5f11d0bc-597c-49d0-9734-1957e469d9e6",
   "metadata": {},
   "outputs": [],
   "source": [
    "# Reviewing the model summary before training\n",
    "model.summary()"
   ]
  },
  {
   "cell_type": "code",
   "execution_count": null,
   "id": "c4539335-20ae-4eb6-ae3a-b4713892731b",
   "metadata": {},
   "outputs": [],
   "source": [
    "# Step 3: Fit our model\n",
    "history = model.fit(X_train_tf, y_train_enc,\n",
    "                    validation_data = (X_test_tf, y_test_enc), \n",
    "                    epochs=10)"
   ]
  },
  {
   "cell_type": "code",
   "execution_count": null,
   "id": "bd3fd3d6-346c-48a2-a5e3-2fef6efbf6aa",
   "metadata": {},
   "outputs": [],
   "source": [
    "# History.history is a dictionary\n",
    "history.history.keys()"
   ]
  },
  {
   "cell_type": "code",
   "execution_count": null,
   "id": "472c9dbf-b6bb-4801-a9a7-6b70b8464b1b",
   "metadata": {},
   "outputs": [],
   "source": [
    "# Metric value for every training epoch\n",
    "history.history['loss']"
   ]
  },
  {
   "cell_type": "code",
   "execution_count": null,
   "id": "02d63d51-e971-47a9-aef0-6b90dff1f882",
   "metadata": {},
   "outputs": [],
   "source": [
    "# Visualize the loss\n",
    "fig, ax = plt.subplots()\n",
    "ax.plot(history.history['loss'], label='Train loss', marker='o')\n",
    "ax.plot(history.history['val_loss'], label='Validation Loss', marker='o')\n",
    "ax.legend();"
   ]
  },
  {
   "cell_type": "code",
   "execution_count": null,
   "id": "9b211e50-73f4-40d5-9014-491312293ace",
   "metadata": {},
   "outputs": [],
   "source": [
    "# EVALUATING NEURAL NETWORKS"
   ]
  },
  {
   "cell_type": "code",
   "execution_count": null,
   "id": "7e2e6deb-f41f-4282-923b-610ef752afd4",
   "metadata": {},
   "outputs": [],
   "source": [
    "# Sequential model\n",
    "model = Sequential()\n",
    "\n",
    "# First hidden layer\n",
    "model.add(Dense(30, # How many neurons you have in your first hidden layer\n",
    "                input_dim = input_shape, # What is the shape of your input features (number of columns)\n",
    "                activation = 'relu')) # What activation function are you using?\n",
    "# Second hidden layer\n",
    "model.add(Dense(10, # How many neurons you have in your second hidden layer\n",
    "                activation = 'relu')) # What activation function are you using?\n",
    "# Output layer\n",
    "model.add(Dense(1, activation = 'sigmoid'))"
   ]
  },
  {
   "cell_type": "code",
   "execution_count": null,
   "id": "fa396ebd-91e5-4ff4-bb41-2988bddd5c83",
   "metadata": {},
   "outputs": [],
   "source": [
    "# Metrics are specified during the .compile step\n",
    "# Step 2: Compile\n",
    "model.compile(loss = 'bce', optimizer = 'adam'\n",
    "              , metrics=['accuracy',\n",
    "                         tf.keras.metrics.Recall(name='recall'),\n",
    "                         tf.keras.metrics.Precision(name='precision'),\n",
    "                        ])\n",
    "model.summary()"
   ]
  },
  {
   "cell_type": "code",
   "execution_count": null,
   "id": "0283ee1c-6a7a-4d79-819a-e32adc8abdff",
   "metadata": {},
   "outputs": [],
   "source": [
    "# Step 3: Fit our model\n",
    "history = model.fit(X_train_tf, y_train_enc,\n",
    "                    validation_data = (X_test_tf, y_test_enc), \n",
    "                    epochs=10)"
   ]
  },
  {
   "cell_type": "code",
   "execution_count": null,
   "id": "e22a9e12-2730-4115-9020-62ccb905a6af",
   "metadata": {},
   "outputs": [],
   "source": [
    "# Convert the history to a dataframe for readability\n",
    "history_df = pd.DataFrame(history.history)\n",
    "history_df"
   ]
  },
  {
   "cell_type": "code",
   "execution_count": null,
   "id": "c7f85885-0c20-4222-8a3e-e65d25320c1e",
   "metadata": {},
   "outputs": [],
   "source": [
    "# Custom function for plotting each metric\n",
    "def plot_history(history, figsize=(6,12), marker='o'):\n",
    "       \n",
    "    # Get list of metrics from history\n",
    "    metrics = [c for c in history.history if not c.startswith('val_')]\n",
    "    \n",
    "    ## Separate row for each metric\n",
    "    fig, axes = plt.subplots(nrows=len(metrics),figsize=figsize)\n",
    "    \n",
    "    # For each metric\n",
    "    for i, metric_name in enumerate(metrics):\n",
    "    \n",
    "        # Get the axis for the current metric\n",
    "        ax = axes[i]\n",
    "    \n",
    "        # Get metric from history.history\n",
    "        metric_values = history.history[metric_name]\n",
    "        # Get epochs from history\n",
    "        epochs = history.epoch\n",
    "    \n",
    "        # Plot the training metric\n",
    "        ax.plot(epochs, metric_values, label=metric_name, marker=marker)\n",
    "    \n",
    "        ## Check if val_{metric} exists. if so, plot:\n",
    "        val_metric_name = f\"val_{metric_name}\"\n",
    "        if val_metric_name in history.history:\n",
    "            # Get validation values and plot\n",
    "            metric_values = history.history[val_metric_name]\n",
    "            ax.plot(epochs,metric_values,label=val_metric_name, marker=marker)\n",
    "    \n",
    "        # Final subplot adjustments \n",
    "        ax.legend()\n",
    "        ax.set_title(metric_name)\n",
    "    fig.tight_layout()\n",
    "\n",
    "    return fig, axes"
   ]
  },
  {
   "cell_type": "code",
   "execution_count": null,
   "id": "a44717bb-bd04-4151-9461-80e13b789a2c",
   "metadata": {},
   "outputs": [],
   "source": [
    "# Call the custom function\n",
    "plot_history(history);"
   ]
  },
  {
   "cell_type": "code",
   "execution_count": null,
   "id": "3f1850cb-cd82-4e8e-9a69-533943671562",
   "metadata": {},
   "outputs": [],
   "source": [
    "# Final test scores\n",
    "# Sequential model\n",
    "model = Sequential()\n",
    "\n",
    "# First hidden layer\n",
    "model.add(Dense(30, # How many neurons you have in your first hidden layer\n",
    "                input_dim = input_shape, # What is the shape of your input features (number of columns)\n",
    "                activation = 'relu')) # What activation function are you using?\n",
    "# Second hidden layer\n",
    "model.add(Dense(10, # How many neurons you have in your second hidden layer\n",
    "                activation = 'relu')) # What activation function are you using?\n",
    "# Output layer\n",
    "model.add(Dense(1, activation = 'sigmoid'))\n",
    "\n",
    "### Metrics are specified during the.compile step\n",
    "# Step 2: Compile\n",
    "model.compile(loss = 'bce', optimizer = 'adam'\n",
    "              , metrics=['accuracy',\n",
    "                         tf.keras.metrics.Recall(name='recall'),\n",
    "                         tf.keras.metrics.Precision(name='precision'),\n",
    "                        ])\n",
    "model.summary()"
   ]
  },
  {
   "cell_type": "code",
   "execution_count": null,
   "id": "ddc0c8d5-365f-454f-a2f1-3bf023ae2635",
   "metadata": {},
   "outputs": [],
   "source": [
    "# Step 3: Fit our model\n",
    "history = model.fit(X_train_tf, y_train_enc,\n",
    "                    validation_split=.2, \n",
    "                    epochs=10)\n",
    "\n",
    "plot_history(history);"
   ]
  },
  {
   "cell_type": "code",
   "execution_count": null,
   "id": "19bc750e-e72b-4b87-89d4-d4b7b36d2192",
   "metadata": {},
   "outputs": [],
   "source": [
    "# Evaluate neural network with builtin evaluation\n",
    "result = model.evaluate(X_test_tf, y_test_enc,return_dict=True)\n",
    "result"
   ]
  },
  {
   "cell_type": "code",
   "execution_count": null,
   "id": "76171da9-0023-48de-8cab-655c81d63f5a",
   "metadata": {},
   "outputs": [],
   "source": [
    "# make predictions\n",
    "y_pred_test = model.predict(X_test_tf)\n",
    "y_pred_test[:5]"
   ]
  },
  {
   "cell_type": "code",
   "execution_count": null,
   "id": "5088552e-bc6f-49fb-81ce-a92defc2c697",
   "metadata": {},
   "outputs": [],
   "source": [
    "# round the predictions\n",
    "y_pred_test = np.round(y_pred_test)\n",
    "y_pred_test[:5]"
   ]
  },
  {
   "cell_type": "code",
   "execution_count": null,
   "id": "ae7baa3a-f7f8-4f42-9c6c-06654c17913c",
   "metadata": {},
   "outputs": [],
   "source": [
    "from sklearn.metrics import classification_report,ConfusionMatrixDisplay\n",
    "print(classification_report(y_test_enc, y_pred_test))\n",
    " \n",
    "ConfusionMatrixDisplay.from_predictions(y_test_enc, y_pred_test, cmap='Blues',\n",
    "                                       normalize='true');"
   ]
  },
  {
   "cell_type": "code",
   "execution_count": null,
   "id": "7cf5c0d0-d9d4-4d3a-b907-816a628f6a90",
   "metadata": {},
   "outputs": [],
   "source": []
  }
 ],
 "metadata": {
  "kernelspec": {
   "display_name": "Python (dojo-env)",
   "language": "python",
   "name": "dojo-env"
  },
  "language_info": {
   "codemirror_mode": {
    "name": "ipython",
    "version": 3
   },
   "file_extension": ".py",
   "mimetype": "text/x-python",
   "name": "python",
   "nbconvert_exporter": "python",
   "pygments_lexer": "ipython3",
   "version": "3.10.10"
  }
 },
 "nbformat": 4,
 "nbformat_minor": 5
}
