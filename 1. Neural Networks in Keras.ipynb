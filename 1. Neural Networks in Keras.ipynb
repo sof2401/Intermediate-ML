{
 "cells": [
  {
   "cell_type": "code",
   "execution_count": null,
   "id": "9414d824-cf67-420e-b217-488fa744634c",
   "metadata": {},
   "outputs": [],
   "source": [
    "# Basic Imports\n",
    "import numpy as np\n",
    "import matplotlib.pyplot as plt\n",
    "import pandas as pd\n",
    "# Preprocessing tools\n",
    "from sklearn.preprocessing import StandardScaler, LabelEncoder, OneHotEncoder\n",
    "from sklearn.model_selection import train_test_split\n",
    "from sklearn.impute import SimpleImputer\n",
    "from sklearn.pipeline import make_pipeline\n",
    "from sklearn.compose import ColumnTransformer\n",
    "# Deep learning tools\n",
    "import tensorflow as tf\n",
    "from tensorflow.keras.models import Sequential\n",
    "from tensorflow.keras.layers import Dense\n",
    "from sklearn import set_config\n",
    "set_config(display='diagram')"
   ]
  },
  {
   "cell_type": "code",
   "execution_count": null,
   "id": "253fcf65-b7a4-4605-9768-ef33d5f77701",
   "metadata": {},
   "outputs": [],
   "source": [
    "df = pd.read_csv(\"Data/cancer.csv\", index_col=0)\n",
    "df.head()"
   ]
  },
  {
   "cell_type": "code",
   "execution_count": null,
   "id": "59e227d4-9a06-462d-ab4f-3e1fcfd552d4",
   "metadata": {},
   "outputs": [],
   "source": [
    "df.isna().sum().sum()"
   ]
  },
  {
   "cell_type": "code",
   "execution_count": null,
   "id": "c6d5b8bf-2d49-4ce7-9b32-65b6a0c48693",
   "metadata": {},
   "outputs": [],
   "source": [
    "target = 'diagnosis'\n",
    "X = df.drop(columns = target)\n",
    "y = df[target]\n",
    "# Train test split\n",
    "X_train, X_test, y_train, y_test = train_test_split(X, y, random_state=42)"
   ]
  },
  {
   "cell_type": "code",
   "execution_count": null,
   "id": "607420a8-3a8e-4a15-8253-5ae796031459",
   "metadata": {},
   "outputs": [],
   "source": [
    "# Convert target to numbers\n",
    "le = LabelEncoder()\n",
    "y_train_enc = le.fit_transform(y_train)\n",
    "y_test_enc = le.transform(y_test)\n",
    "y_train_enc"
   ]
  },
  {
   "cell_type": "code",
   "execution_count": null,
   "id": "efab5b15-efbb-45cd-b214-b4acd6f40c18",
   "metadata": {},
   "outputs": [],
   "source": [
    "# Convert encoded target values to a series\n",
    "y_train_enc = pd.Series(le.transform(y_train), index=y_train.index,\n",
    "             name=target)\n",
    "y_test_enc = pd.Series(le.transform(y_test), index=y_test.index,\n",
    "             name=target)\n",
    "y_train_enc"
   ]
  },
  {
   "cell_type": "code",
   "execution_count": null,
   "id": "b6637c62-684b-4d29-835a-615768dcc438",
   "metadata": {},
   "outputs": [],
   "source": [
    "# Check class balance\n",
    "y_train_enc.value_counts(normalize = True)"
   ]
  },
  {
   "cell_type": "code",
   "execution_count": null,
   "id": "d1533864-b866-48e5-86f3-d2f06ea941c0",
   "metadata": {},
   "outputs": [],
   "source": [
    "# Scale data\n",
    "scaler = StandardScaler()\n",
    "scaler.fit(X_train)\n",
    "X_train_tf = scaler.transform(X_train)\n",
    "X_test_tf = scaler.transform(X_test)"
   ]
  },
  {
   "cell_type": "code",
   "execution_count": null,
   "id": "7aba247b-91b4-4be2-92d1-7fd423dd537d",
   "metadata": {},
   "outputs": [],
   "source": [
    "# Step 1: Define our network structure\n",
    "# Save the number of features we have as our input shape\n",
    "input_shape = X_train_tf.shape[1]\n",
    "input_shape"
   ]
  },
  {
   "cell_type": "code",
   "execution_count": null,
   "id": "760b6fcb-3c64-4e1e-82c7-5675da81212c",
   "metadata": {},
   "outputs": [],
   "source": [
    "# Sequential model\n",
    "model = Sequential()"
   ]
  },
  {
   "cell_type": "code",
   "execution_count": null,
   "id": "24ca2d6a-4ad5-4826-81ad-ea781864cf1e",
   "metadata": {},
   "outputs": [],
   "source": [
    "# First hidden layer\n",
    "model.add(Dense(30, # How many neurons you have in your first hidden layer\n",
    "                input_dim = input_shape, # What is the shape of your input features (number of columns)\n",
    "                activation = 'relu')) # What activation function are you using?\n",
    "# Second hidden layer\n",
    "model.add(Dense(10, # How many neurons you have in your second hidden layer\n",
    "                activation = 'relu')) # What activation function are you using?"
   ]
  },
  {
   "cell_type": "code",
   "execution_count": null,
   "id": "78bb0b9d-65e7-40eb-93b0-716a26132a8b",
   "metadata": {},
   "outputs": [],
   "source": [
    "# Output layer\n",
    "model.add(Dense(1, activation = 'sigmoid'))"
   ]
  },
  {
   "cell_type": "code",
   "execution_count": null,
   "id": "79ad5d0b-74cf-4a7e-bdb1-0e22df4bcb63",
   "metadata": {},
   "outputs": [],
   "source": [
    "# Step 2: Compile\n",
    "model.compile(loss = 'bce', optimizer = 'adam',)"
   ]
  },
  {
   "cell_type": "code",
   "execution_count": null,
   "id": "5f11d0bc-597c-49d0-9734-1957e469d9e6",
   "metadata": {},
   "outputs": [],
   "source": [
    "# Reviewing the model summary before training\n",
    "model.summary()"
   ]
  },
  {
   "cell_type": "code",
   "execution_count": null,
   "id": "c4539335-20ae-4eb6-ae3a-b4713892731b",
   "metadata": {},
   "outputs": [],
   "source": [
    "# Step 3: Fit our model\n",
    "history = model.fit(X_train_tf, y_train_enc,\n",
    "                    validation_data = (X_test_tf, y_test_enc), \n",
    "                    epochs=10)"
   ]
  },
  {
   "cell_type": "code",
   "execution_count": null,
   "id": "bd3fd3d6-346c-48a2-a5e3-2fef6efbf6aa",
   "metadata": {},
   "outputs": [],
   "source": [
    "# History.history is a dictionary\n",
    "history.history.keys()"
   ]
  },
  {
   "cell_type": "code",
   "execution_count": null,
   "id": "472c9dbf-b6bb-4801-a9a7-6b70b8464b1b",
   "metadata": {},
   "outputs": [],
   "source": [
    "# Metric value for every training epoch\n",
    "history.history['loss']"
   ]
  },
  {
   "cell_type": "code",
   "execution_count": null,
   "id": "02d63d51-e971-47a9-aef0-6b90dff1f882",
   "metadata": {},
   "outputs": [],
   "source": [
    "# Visualize the loss\n",
    "fig, ax = plt.subplots()\n",
    "ax.plot(history.history['loss'], label='Train loss', marker='o')\n",
    "ax.plot(history.history['val_loss'], label='Validation Loss', marker='o')\n",
    "ax.legend();"
   ]
  },
  {
   "cell_type": "code",
   "execution_count": null,
   "id": "9b211e50-73f4-40d5-9014-491312293ace",
   "metadata": {},
   "outputs": [],
   "source": []
  }
 ],
 "metadata": {
  "kernelspec": {
   "display_name": "Python (dojo-env)",
   "language": "python",
   "name": "dojo-env"
  },
  "language_info": {
   "codemirror_mode": {
    "name": "ipython",
    "version": 3
   },
   "file_extension": ".py",
   "mimetype": "text/x-python",
   "name": "python",
   "nbconvert_exporter": "python",
   "pygments_lexer": "ipython3",
   "version": "3.10.10"
  }
 },
 "nbformat": 4,
 "nbformat_minor": 5
}
