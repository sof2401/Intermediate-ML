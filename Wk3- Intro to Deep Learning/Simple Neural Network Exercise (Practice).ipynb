{
 "cells": [
  {
   "cell_type": "code",
   "execution_count": null,
   "id": "a044bfe3-75c6-4de5-92ef-401a57980021",
   "metadata": {},
   "outputs": [],
   "source": [
    "import pandas as pd\n",
    "import numpy as np\n",
    "import matplotlib.pyplot as plt\n",
    "import seaborn as sns\n",
    "\n",
    "from sklearn.model_selection import train_test_split\n",
    "from sklearn.preprocessing import StandardScaler\n",
    "from imblearn.over_sampling import SMOTE\n",
    "from sklearn.impute import SimpleImputer\n",
    "from sklearn.pipeline import make_pipeline\n",
    "from sklearn.compose import ColumnTransformer\n",
    "from sklearn.preprocessing import OneHotEncoder\n",
    "\n",
    "# Models\n",
    "from sklearn.linear_model import LogisticRegression\n",
    "from sklearn.ensemble import RandomForestClassifier\n",
    "\n",
    "import tensorflow as tf\n",
    "from tensorflow.keras.models import Sequential\n",
    "from tensorflow.keras.layers import Dense\n",
    "from sklearn import set_config\n",
    "set_config(display='diagram')\n",
    "\n",
    "from sklearn import set_config\n",
    "set_config(transform_output= 'pandas')"
   ]
  },
  {
   "cell_type": "code",
   "execution_count": null,
   "id": "156e1440-0a4c-447a-86bb-8be593053191",
   "metadata": {},
   "outputs": [],
   "source": [
    "df= pd.read_csv('Data/heart - heart.csv')\n",
    "df.head()"
   ]
  },
  {
   "cell_type": "code",
   "execution_count": null,
   "id": "f62a22e9-fce4-4a25-a81d-99bd7be30c0f",
   "metadata": {},
   "outputs": [],
   "source": [
    "df.isna().sum()"
   ]
  },
  {
   "cell_type": "code",
   "execution_count": null,
   "id": "82f1d91e-289d-47ac-91b7-5167a9db7995",
   "metadata": {},
   "outputs": [],
   "source": [
    "X = df.drop(columns='HeartDisease')\n",
    "y = df['HeartDisease']\n",
    "\n",
    "X_train, X_test, y_train, y_test= train_test_split(X, y, random_state=42)"
   ]
  },
  {
   "cell_type": "code",
   "execution_count": null,
   "id": "87969336-7eca-4d95-89ec-a7174d3de8fc",
   "metadata": {},
   "outputs": [],
   "source": [
    "num_cols = X_train.select_dtypes(include=['int64', 'float64']).columns\n",
    "cat_cols = X_train.select_dtypes(include=['object']).columns\n",
    "\n",
    "preprocessor = ColumnTransformer(transformers=[\n",
    "        ('num', StandardScaler(), num_cols), \n",
    "        ('cat', OneHotEncoder(sparse_output=False), cat_cols)])\n",
    "\n",
    "X_train_preprocessed = preprocessor.fit_transform(X_train)\n",
    "X_test_preprocessed = preprocessor.transform(X_test)"
   ]
  },
  {
   "cell_type": "code",
   "execution_count": null,
   "id": "0d5004a7-6f52-46ff-9968-1c95cad9da61",
   "metadata": {},
   "outputs": [],
   "source": [
    "# DEFINE BASE SEQUENTIAL MODEL\n",
    "model = Sequential()"
   ]
  },
  {
   "cell_type": "code",
   "execution_count": null,
   "id": "1320c402-c016-4101-b107-069efa849f76",
   "metadata": {},
   "outputs": [],
   "source": [
    "input_shape = X_train_tf.shape[1]\n",
    "input_shape"
   ]
  },
  {
   "cell_type": "code",
   "execution_count": null,
   "id": "bb1891ce-ff41-4997-9aad-1489104543c3",
   "metadata": {},
   "outputs": [],
   "source": [
    "# First hidden layer\n",
    "model.add(Dense(30, input_dim = input_shape, activation = 'relu'))\n",
    "\n",
    "# Second hidden layer\n",
    "model.add(Dense(10, activation = 'relu')) "
   ]
  },
  {
   "cell_type": "code",
   "execution_count": null,
   "id": "800161ec-dcff-4fdd-9486-ae3e8ac837f5",
   "metadata": {},
   "outputs": [],
   "source": [
    "# Compile\n",
    "model.compile(loss = 'bce', optimizer = 'adam',)"
   ]
  },
  {
   "cell_type": "code",
   "execution_count": null,
   "id": "d500c33c-71aa-4085-afdb-19e1d9861fea",
   "metadata": {},
   "outputs": [],
   "source": []
  }
 ],
 "metadata": {
  "kernelspec": {
   "display_name": "Python (dojo-env)",
   "language": "python",
   "name": "dojo-env"
  },
  "language_info": {
   "codemirror_mode": {
    "name": "ipython",
    "version": 3
   },
   "file_extension": ".py",
   "mimetype": "text/x-python",
   "name": "python",
   "nbconvert_exporter": "python",
   "pygments_lexer": "ipython3",
   "version": "3.10.10"
  }
 },
 "nbformat": 4,
 "nbformat_minor": 5
}
