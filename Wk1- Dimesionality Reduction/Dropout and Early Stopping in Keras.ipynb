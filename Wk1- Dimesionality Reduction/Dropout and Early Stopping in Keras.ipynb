{
 "cells": [
  {
   "cell_type": "code",
   "execution_count": null,
   "id": "34785f14-84ce-475a-8d00-7c80adeb3b43",
   "metadata": {},
   "outputs": [],
   "source": [
    "# Imports\n",
    "import numpy as np\n",
    "import matplotlib.pyplot as plt\n",
    "import pandas as pd\n",
    "from sklearn.model_selection import train_test_split\n",
    "from sklearn.preprocessing import StandardScaler, LabelEncoder\n",
    "import tensorflow as tf\n",
    "from tensorflow.keras.models import Sequential\n",
    "from tensorflow.keras.callbacks import EarlyStopping\n",
    "from tensorflow.keras.layers import Dense, Dropout"
   ]
  },
  {
   "cell_type": "code",
   "execution_count": null,
   "id": "5773bd9f-9659-4b47-a6f7-08ac09b3750e",
   "metadata": {},
   "outputs": [],
   "source": [
    "def plot_history(history, figsize=(6,12), marker='o'):\n",
    "       \n",
    "    # Get list of metrics from history\n",
    "    metrics = [c for c in history.history if not c.startswith('val_')]\n",
    "    \n",
    "    ## Separate row for each metric\n",
    "    fig, axes = plt.subplots(nrows=len(metrics),figsize=figsize)\n",
    "    \n",
    "    \n",
    "    # For each metric\n",
    "    for i, metric_name in enumerate(metrics):\n",
    "        # Get the axis for the current metric\n",
    "        if len(metrics)==1:\n",
    "            ax = axes\n",
    "        else:\n",
    "            ax = axes[i]\n",
    "    \n",
    "        # Get metric from history.history\n",
    "        metric_values = history.history[metric_name]\n",
    "        # Get epochs from history\n",
    "        epochs = history.epoch\n",
    "    \n",
    "        # Plot the training metric\n",
    "        ax.plot(epochs, metric_values, label=metric_name, marker=marker)\n",
    "    \n",
    "        ## Check if val_{metric} exists. if so, plot:\n",
    "        val_metric_name = f\"val_{metric_name}\"\n",
    "        if val_metric_name in history.history:\n",
    "            # Get validation values and plot\n",
    "            metric_values = history.history[val_metric_name]\n",
    "            ax.plot(epochs,metric_values,label=val_metric_name, marker=marker)\n",
    "    \n",
    "        # Final subplot adjustments \n",
    "        ax.legend()\n",
    "        ax.set_title(metric_name)\n",
    "    fig.tight_layout()\n",
    "    return fig, axes"
   ]
  },
  {
   "cell_type": "code",
   "execution_count": null,
   "id": "13518262-4908-4328-a312-19cd0158bb1f",
   "metadata": {},
   "outputs": [],
   "source": [
    "df = pd.read_csv('Data/nba.csv', index_col = 'Name')\n",
    "df.head()"
   ]
  },
  {
   "cell_type": "code",
   "execution_count": null,
   "id": "5f884e5f-4953-4abd-b825-9e70b2556dc5",
   "metadata": {},
   "outputs": [],
   "source": [
    "df.isna().sum().sum()"
   ]
  },
  {
   "cell_type": "code",
   "execution_count": null,
   "id": "bd129239-d0e8-4bff-8313-e7fc125ffd6a",
   "metadata": {},
   "outputs": [],
   "source": [
    "df.dropna(inplace = True)"
   ]
  },
  {
   "cell_type": "code",
   "execution_count": null,
   "id": "11240966-1951-4c1c-aac1-85ee303e6987",
   "metadata": {},
   "outputs": [],
   "source": [
    "target = 'TARGET_5Yrs'\n",
    "X = df.drop(columns = target)\n",
    "y = df[target]\n",
    "# Train test_Val split\n",
    "X_train, X_test_val, y_train, y_test_val = train_test_split(X, y, test_size = .3, random_state=42)"
   ]
  },
  {
   "cell_type": "code",
   "execution_count": null,
   "id": "db02168e-7d30-430d-9227-3a7e15236489",
   "metadata": {},
   "outputs": [],
   "source": [
    "# Split the X_test_val into test and val data \n",
    "X_val, X_test, y_val, y_test = train_test_split(X_test_val, y_test_val, test_size = .5, random_state=42)"
   ]
  },
  {
   "cell_type": "code",
   "execution_count": null,
   "id": "eeaeb65d-b260-479f-b51a-b1566fb1801d",
   "metadata": {},
   "outputs": [],
   "source": [
    "# Scale our data\n",
    "scaler = StandardScaler()\n",
    "X_train = scaler.fit_transform(X_train)\n",
    "X_test = scaler.transform(X_test)\n",
    "X_val = scaler.transform(X_val)"
   ]
  },
  {
   "cell_type": "markdown",
   "id": "74a3b0a8-be0b-4fa4-b902-01765aa18436",
   "metadata": {},
   "source": [
    "**Dropout**"
   ]
  },
  {
   "cell_type": "code",
   "execution_count": null,
   "id": "114d866e-5b38-48f2-b06f-ee0143213788",
   "metadata": {},
   "outputs": [],
   "source": [
    "# Step 1: Define our network structure\n",
    "# Save the number of features we have as our input shape\n",
    "input_shape = X_train.shape[1]\n",
    "input_shape"
   ]
  },
  {
   "cell_type": "code",
   "execution_count": null,
   "id": "ffd01e36-e711-47fe-bc43-75aba7ea9a26",
   "metadata": {},
   "outputs": [],
   "source": [
    "# Without dropout\n",
    "# Sequential model\n",
    "model = Sequential()\n",
    "# First hidden layer\n",
    "model.add(Dense(19, # How many neurons you have in your first hidden layer\n",
    "                input_dim = input_shape, # What is the shape of your input features (number of columns)\n",
    "                activation = 'relu')) # What activation function are you using?\n",
    "model.add(Dense(10, \n",
    "                activation = 'relu'))\n",
    "model.add(Dense(1, activation = 'sigmoid'))\n",
    "model.compile(loss = 'bce', optimizer = 'adam',\n",
    "              metrics=['accuracy',\n",
    "                         tf.keras.metrics.Recall(name='recall'),\n",
    "                         tf.keras.metrics.Precision(name='precision'),\n",
    "                        ])\n",
    "model.summary()"
   ]
  },
  {
   "cell_type": "code",
   "execution_count": null,
   "id": "cf373420-0100-4399-9bdc-9290460e7ac8",
   "metadata": {},
   "outputs": [],
   "source": [
    "# Fit the model\n",
    "history = model.fit(X_train, y_train,\n",
    "                    validation_data= (X_val, y_val), \n",
    "                    epochs=50)"
   ]
  },
  {
   "cell_type": "code",
   "execution_count": null,
   "id": "ebbccae4-04ca-4464-8b5b-442b9a41f033",
   "metadata": {},
   "outputs": [],
   "source": [
    "# Visualize the results\n",
    "plot_history(history, marker='.');"
   ]
  },
  {
   "cell_type": "code",
   "execution_count": null,
   "id": "b2a67fc7-9ad1-4094-ba46-0e1bdb12ee5e",
   "metadata": {},
   "outputs": [],
   "source": [
    "# Evaluate neural network with built in evaluation\n",
    "result = model.evaluate(X_test, y_test, return_dict=True)\n",
    "result"
   ]
  },
  {
   "cell_type": "code",
   "execution_count": null,
   "id": "e992edf1-0721-4b61-845d-e6a8ccee98e3",
   "metadata": {},
   "outputs": [],
   "source": [
    "# Sequential model\n",
    "model = Sequential()\n",
    "# First hidden layer\n",
    "model.add(Dense(19, # How many neurons you have in your first hidden layer\n",
    "                input_dim = input_shape, # What is the shape of your input features (number of columns)\n",
    "                activation = 'relu')) # What activation function are you using?\n",
    "model.add(Dense(10, \n",
    "                activation = 'relu'))\n",
    "model.add(Dropout(0.5))\n",
    "model.add(Dense(1, activation = 'sigmoid'))\n",
    "model.compile(loss = 'bce', optimizer = 'adam',\n",
    "             metrics=['accuracy',\n",
    "                         tf.keras.metrics.Recall(name='recall'),\n",
    "                         tf.keras.metrics.Precision(name='precision')])\n",
    "history = model.fit(X_train, y_train,\n",
    "                    validation_data = (X_val, y_val), \n",
    "                    epochs=50)"
   ]
  },
  {
   "cell_type": "code",
   "execution_count": null,
   "id": "2f7e8afb-d02a-4171-91ea-b3301c597915",
   "metadata": {},
   "outputs": [],
   "source": [
    "# Visualize the results\n",
    "plot_history(history, marker='.');"
   ]
  },
  {
   "cell_type": "code",
   "execution_count": null,
   "id": "28ad55d7-fdc1-4823-98c9-3dfefc61e183",
   "metadata": {},
   "outputs": [],
   "source": [
    "# Evaluate neural network with built in evaluation\n",
    "result = model.evaluate(X_test, y_test, return_dict=True)\n",
    "result"
   ]
  },
  {
   "cell_type": "code",
   "execution_count": null,
   "id": "554d0705-df4d-4b13-b14a-3930754f5370",
   "metadata": {},
   "outputs": [],
   "source": []
  },
  {
   "cell_type": "markdown",
   "id": "567756cb-0df0-42cb-803b-5c0c331ea336",
   "metadata": {},
   "source": [
    "**Early Stopping**"
   ]
  },
  {
   "cell_type": "code",
   "execution_count": null,
   "id": "e5e632d8-ee25-4a3d-8c31-13ee05e46e4b",
   "metadata": {},
   "outputs": [],
   "source": [
    "# With early stopping\n",
    "# Sequential model\n",
    "model = Sequential()\n",
    "# First hidden layer\n",
    "model.add(Dense(19, # How many neurons you have in your first hidden layer\n",
    "                input_dim =input_shape, # What is the shape of your input features (number of columns)\n",
    "                activation = 'relu')) # What activation function are you using?\n",
    "model.add(Dense(10, \n",
    "                activation = 'relu'))\n",
    "model.add(Dense(1, activation = 'sigmoid'))\n",
    "model.compile(loss = 'bce', optimizer = 'adam',\n",
    "             metrics=['accuracy',\n",
    "                         tf.keras.metrics.Recall(name='recall'),\n",
    "                         tf.keras.metrics.Precision(name='precision')])"
   ]
  },
  {
   "cell_type": "code",
   "execution_count": null,
   "id": "cf9fab15-b2d0-4563-94da-d95c13b27f49",
   "metadata": {},
   "outputs": [],
   "source": [
    "# Instantiate EarlyStopping\n",
    "early_stopping = EarlyStopping(patience = 5)"
   ]
  },
  {
   "cell_type": "code",
   "execution_count": null,
   "id": "9696b078-68b9-4712-908b-ab080cf18380",
   "metadata": {},
   "outputs": [],
   "source": [
    "# Evaluate neural network with built in evaluation\n",
    "result = model.evaluate(X_test, y_test, return_dict=True)\n",
    "result"
   ]
  },
  {
   "cell_type": "code",
   "execution_count": null,
   "id": "687299a0-8222-40d4-8f58-ba6a552f26b1",
   "metadata": {},
   "outputs": [],
   "source": [
    "# Using Dropout layer and Early Stopping\n",
    "\n",
    "# With dropout and early stopping\n",
    "# Sequential model\n",
    "model = Sequential()\n",
    "# First hidden layer\n",
    "model.add(Dense(19, # How many neurons you have in your first hidden layer\n",
    "                input_dim = input_shape, # What is the shape of your input features (number of columns)\n",
    "                activation = 'relu')) # What activation function are you using?\n",
    "model.add(Dense(10, \n",
    "                activation = 'relu'))\n",
    "model.add(Dropout(.5))\n",
    "model.add(Dense(1, activation = 'sigmoid'))\n",
    "model.compile(loss = 'bce', optimizer = 'adam',\n",
    "             metrics=['accuracy',\n",
    "                         tf.keras.metrics.Recall(name='recall'),\n",
    "                         tf.keras.metrics.Precision(name='precision')])"
   ]
  },
  {
   "cell_type": "code",
   "execution_count": null,
   "id": "01b72805-730a-4896-a027-dc62e0a4a272",
   "metadata": {},
   "outputs": [],
   "source": [
    "# Instantiate early stopping\n",
    "early_stopping = EarlyStopping(patience = 5)"
   ]
  },
  {
   "cell_type": "code",
   "execution_count": null,
   "id": "07112324-9659-4308-92b8-b668b4878aab",
   "metadata": {},
   "outputs": [],
   "source": [
    "# Fit the model with the early stopping callback\n",
    "history = model.fit(X_train, y_train,\n",
    "                    validation_data = (X_test, y_test), \n",
    "                    epochs=100,\n",
    "                    callbacks = [early_stopping])\n",
    "\n"
   ]
  },
  {
   "cell_type": "code",
   "execution_count": null,
   "id": "fdec20cd-a139-4396-8a1a-c11e98263708",
   "metadata": {},
   "outputs": [],
   "source": [
    "# Evaluate neural network with built in evaluation\n",
    "result = model.evaluate(X_test, y_test, return_dict=True)\n",
    "result"
   ]
  },
  {
   "cell_type": "code",
   "execution_count": null,
   "id": "b814ed0b-d4bf-4f05-9bdf-8b3570878387",
   "metadata": {},
   "outputs": [],
   "source": []
  },
  {
   "cell_type": "markdown",
   "id": "c0f660b3-c0c0-4916-aabf-83a217435583",
   "metadata": {},
   "source": [
    "**Keras Tuner**"
   ]
  },
  {
   "cell_type": "code",
   "execution_count": null,
   "id": "170ada76-88be-4aea-bfa4-23333764f908",
   "metadata": {},
   "outputs": [],
   "source": [
    "# Build and Compile Model within a function\n",
    "def build_model():\n",
    "    # Instantiate Model \n",
    "    model = Sequential()\n",
    "    # First hidden layer\n",
    "    model.add(Dense(19, # How many neurons you have in your first hidden layer\n",
    "                input_dim =input_shape, # What is the shape of your input features (number of columns)\n",
    "                activation = 'relu')) # What activation function are you using?\n",
    "    model.add(Dense(10, \n",
    "                activation = 'relu'))\n",
    "    model.add(Dropout(.5))\n",
    "    model.add(Dense(1, activation = 'sigmoid'))\n",
    "    \n",
    "    # Compile Model\n",
    "    model.compile(loss = 'bce', optimizer = 'adam',\n",
    "             metrics=['accuracy',\n",
    "                         tf.keras.metrics.Recall(name='recall'),\n",
    "                         tf.keras.metrics.Precision(name='precision')])\n",
    "    return model"
   ]
  },
  {
   "cell_type": "code",
   "execution_count": null,
   "id": "01aafbac-60b2-43db-9875-03cee353dd9d",
   "metadata": {},
   "outputs": [],
   "source": [
    "# Call our build function to build model\n",
    "basic_model = build_model()\n",
    "\n",
    "# Get model summary\n",
    "basic_model.summary()"
   ]
  },
  {
   "cell_type": "code",
   "execution_count": null,
   "id": "c2f03c81-092d-4499-acc8-61266fe180d1",
   "metadata": {},
   "outputs": [],
   "source": [
    "# Tuning One Hyperparameter\n",
    "\n",
    "from keras_tuner import HyperParameters as hp\n",
    "import keras_tuner as kt"
   ]
  },
  {
   "cell_type": "code",
   "execution_count": null,
   "id": "63ea4077-3ffe-4c7a-8ab0-1e70fcd5c315",
   "metadata": {},
   "outputs": [],
   "source": [
    "# Build and Compile Model within a function to try optimizers\n",
    "def build_model(hp):\n",
    "    # Instantiate Model \n",
    "    model = Sequential()\n",
    "    # First hidden layer\n",
    "    model.add(Dense(19, # How many neurons you have in your first hidden layer\n",
    "                input_dim =input_shape, # What is the shape of your input features (number of columns)\n",
    "                activation = 'relu')) # What activation function are you using?\n",
    "    model.add(Dense(10, \n",
    "                activation = 'relu'))\n",
    "    model.add(Dropout(.5))\n",
    "    model.add(Dense(1, activation = 'sigmoid'))\n",
    "    \n",
    "    # Compile Model\n",
    "    model.compile(optimizer=hp.Choice('optimizer',['rmsprop','nadam','adam']),\n",
    "                  loss='bce',\n",
    "                  metrics=['accuracy',\n",
    "                           tf.keras.metrics.Recall(name='recall'),\n",
    "                           tf.keras.metrics.Precision(name='precision')])\n",
    "    return model"
   ]
  },
  {
   "cell_type": "code",
   "execution_count": null,
   "id": "eadc9a29-6982-4330-8d8b-d26188e214d6",
   "metadata": {},
   "outputs": [],
   "source": [
    "# Make a folder to store results of hyperparameter tuning\n",
    "import os\n",
    "folder = 'KerasTuner/'\n",
    "os.makedirs(folder, exist_ok=True)"
   ]
  },
  {
   "cell_type": "code",
   "execution_count": null,
   "id": "2d5ca685-86fb-437c-a226-76920fc03dc9",
   "metadata": {},
   "outputs": [],
   "source": [
    "# Define tuner object\n",
    "tuner = kt.Hyperband(build_model,\n",
    "                     objective='val_accuracy',\n",
    "                     max_epochs=5,\n",
    "                     directory=folder,\n",
    "                     overwrite = True,\n",
    "                     seed = 42,\n",
    "                     project_name='Rookie_tuning')"
   ]
  },
  {
   "cell_type": "code",
   "execution_count": null,
   "id": "04587f2c-2ccd-4df4-a2da-3aa19311c91f",
   "metadata": {},
   "outputs": [],
   "source": [
    "from tensorflow.keras.callbacks import EarlyStopping\n",
    "early_stop = EarlyStopping(monitor='val_loss', patience=5)"
   ]
  },
  {
   "cell_type": "code",
   "execution_count": null,
   "id": "3394e634-7b86-4813-8738-0503e0bec045",
   "metadata": {},
   "outputs": [],
   "source": [
    "# Run the tuner\n",
    "epochs = 100\n",
    "tuner.search(X_train, y_train,  epochs=epochs,\n",
    "             validation_data = (X_val, y_val), callbacks = [early_stop])"
   ]
  },
  {
   "cell_type": "code",
   "execution_count": null,
   "id": "d05fa2d2-b34c-40d5-adda-22399190a697",
   "metadata": {},
   "outputs": [],
   "source": [
    "# Obtain best hyperparameter values\n",
    "best_hps=tuner.get_best_hyperparameters()[0]\n",
    "best_hps.values"
   ]
  },
  {
   "cell_type": "code",
   "execution_count": null,
   "id": "da3d6a54-debd-40ad-bf51-6580e01f376e",
   "metadata": {},
   "outputs": [],
   "source": [
    "# Obtain best model\n",
    "best_model = tuner.get_best_models()[0]\n",
    "best_model.summary()"
   ]
  },
  {
   "cell_type": "code",
   "execution_count": null,
   "id": "a7dd0435-f029-4442-9cc0-86fc95f55d7b",
   "metadata": {},
   "outputs": [],
   "source": [
    "# Evaluate neural network with built in evaluation\n",
    "result = best_model.evaluate(X_test, y_test, return_dict=True)\n",
    "result"
   ]
  },
  {
   "cell_type": "code",
   "execution_count": null,
   "id": "4477d556-62c4-4f88-b2c5-e75fe00017da",
   "metadata": {},
   "outputs": [],
   "source": [
    "# Tuning Multiple Hyperparameters\n",
    "\n",
    "# Build and Compile Model within a function to try different optimizers, units, and dropout values\n",
    "def build_model(hp):\n",
    "    # Instantiate Model \n",
    "    model = Sequential()\n",
    "    # First hidden layer\n",
    "    model.add(Dense(19, # How many neurons you have in your first hidden layer\n",
    "                input_dim =input_shape, # What is the shape of your input features (number of columns)\n",
    "                activation = 'relu')) # What activation function are you using?\n",
    "    # Try different values for units\n",
    "    model.add(Dense(units=hp.Int('units', min_value=10, max_value=50, step=5), activation='relu'))\n",
    "    # Try different values for dropout rate\n",
    "    model.add(Dropout(hp.Float(name=\"dropout_value\", min_value=0.0, max_value=0.5, step=0.1)))\n",
    "    model.add(Dense(1, activation = 'sigmoid'))\n",
    "    \n",
    "    # Compile Model\n",
    "    # Try different optimizers\n",
    "    model.compile(optimizer=hp.Choice('optimizer',['rmsprop','nadam','adam']),\n",
    "                  loss='bce',\n",
    "                  metrics=['accuracy',\n",
    "                           tf.keras.metrics.Recall(name='recall'),\n",
    "                           tf.keras.metrics.Precision(name='precision')])\n",
    "    return model"
   ]
  },
  {
   "cell_type": "code",
   "execution_count": null,
   "id": "c790cbe3-8829-491c-8f37-1156ce498110",
   "metadata": {},
   "outputs": [],
   "source": [
    "# Define tuner object\n",
    "tuner = kt.Hyperband(build_model,\n",
    "                     objective='val_accuracy',\n",
    "                     max_epochs=100,\n",
    "                     directory=folder,\n",
    "                     overwrite = True,\n",
    "                     seed = 42,\n",
    "                     project_name='Rookie_tuning')"
   ]
  },
  {
   "cell_type": "code",
   "execution_count": null,
   "id": "003101d9-c903-46f7-a8b7-412c9b147b37",
   "metadata": {},
   "outputs": [],
   "source": [
    "# Run the tuner\n",
    "epochs = 100\n",
    "tuner.search(X_train, y_train,  epochs=epochs,\n",
    "             validation_data = (X_val, y_val), callbacks = [early_stop])"
   ]
  },
  {
   "cell_type": "code",
   "execution_count": null,
   "id": "dc8c78e8-bb35-435b-91f8-dbd20c7b69f7",
   "metadata": {},
   "outputs": [],
   "source": [
    "# Obtain best hyperparameter values\n",
    "best_hps=tuner.get_best_hyperparameters()[0]\n",
    "best_hps.values"
   ]
  },
  {
   "cell_type": "code",
   "execution_count": null,
   "id": "10e30168-72b2-4c94-b454-2c8694117516",
   "metadata": {},
   "outputs": [],
   "source": [
    "# Obtain best model\n",
    "best_model = tuner.get_best_models()[0]\n",
    "best_model.summary()"
   ]
  },
  {
   "cell_type": "code",
   "execution_count": null,
   "id": "0a8717ef-c79b-4ca2-9e68-b75b6449a93b",
   "metadata": {},
   "outputs": [],
   "source": [
    "# Evaluate neural network with tuned optimizer, units, and dropout\n",
    "result = best_model.evaluate(X_test, y_test, return_dict=True)\n",
    "result"
   ]
  },
  {
   "cell_type": "code",
   "execution_count": null,
   "id": "fa08d3ec-bc8a-44b8-a5af-4e3b395dc266",
   "metadata": {},
   "outputs": [],
   "source": [
    "# Inspect results in more detail\n",
    "tuner.results_summary(5)"
   ]
  }
 ],
 "metadata": {
  "kernelspec": {
   "display_name": "Python (dojo-env)",
   "language": "python",
   "name": "dojo-env"
  },
  "language_info": {
   "codemirror_mode": {
    "name": "ipython",
    "version": 3
   },
   "file_extension": ".py",
   "mimetype": "text/x-python",
   "name": "python",
   "nbconvert_exporter": "python",
   "pygments_lexer": "ipython3",
   "version": "3.10.10"
  }
 },
 "nbformat": 4,
 "nbformat_minor": 5
}
