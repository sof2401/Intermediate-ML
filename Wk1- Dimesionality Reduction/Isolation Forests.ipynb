{
 "cells": [
  {
   "cell_type": "code",
   "execution_count": 1,
   "id": "834f0073-4014-4246-aaee-9ae7a1f18ec9",
   "metadata": {},
   "outputs": [],
   "source": [
    "import pandas as pd\n",
    "import matplotlib.pyplot as plt\n",
    "import seaborn as sns\n",
    "import numpy as np\n",
    "from sklearn.ensemble import IsolationForest # new!\n",
    "from sklearn import set_config\n",
    "set_config(transform_output='pandas')"
   ]
  },
  {
   "cell_type": "code",
   "execution_count": 5,
   "id": "090f6221-1857-4aa9-b1fe-89a2dcc03629",
   "metadata": {},
   "outputs": [
    {
     "data": {
      "text/html": [
       "<div>\n",
       "<style scoped>\n",
       "    .dataframe tbody tr th:only-of-type {\n",
       "        vertical-align: middle;\n",
       "    }\n",
       "\n",
       "    .dataframe tbody tr th {\n",
       "        vertical-align: top;\n",
       "    }\n",
       "\n",
       "    .dataframe thead th {\n",
       "        text-align: right;\n",
       "    }\n",
       "</style>\n",
       "<table border=\"1\" class=\"dataframe\">\n",
       "  <thead>\n",
       "    <tr style=\"text-align: right;\">\n",
       "      <th></th>\n",
       "      <th>x1</th>\n",
       "      <th>x2</th>\n",
       "    </tr>\n",
       "  </thead>\n",
       "  <tbody>\n",
       "    <tr>\n",
       "      <th>0</th>\n",
       "      <td>7.793419</td>\n",
       "      <td>-7.149916</td>\n",
       "    </tr>\n",
       "    <tr>\n",
       "      <th>1</th>\n",
       "      <td>8.783409</td>\n",
       "      <td>-9.979164</td>\n",
       "    </tr>\n",
       "    <tr>\n",
       "      <th>2</th>\n",
       "      <td>7.467731</td>\n",
       "      <td>1.424818</td>\n",
       "    </tr>\n",
       "    <tr>\n",
       "      <th>3</th>\n",
       "      <td>9.204612</td>\n",
       "      <td>-5.804796</td>\n",
       "    </tr>\n",
       "    <tr>\n",
       "      <th>4</th>\n",
       "      <td>10.242530</td>\n",
       "      <td>-3.605225</td>\n",
       "    </tr>\n",
       "  </tbody>\n",
       "</table>\n",
       "</div>"
      ],
      "text/plain": [
       "          x1        x2\n",
       "0   7.793419 -7.149916\n",
       "1   8.783409 -9.979164\n",
       "2   7.467731  1.424818\n",
       "3   9.204612 -5.804796\n",
       "4  10.242530 -3.605225"
      ]
     },
     "execution_count": 5,
     "metadata": {},
     "output_type": "execute_result"
    }
   ],
   "source": [
    "from sklearn.datasets import make_blobs\n",
    "# Create dataset with 3 centers\n",
    "X_, y_ = make_blobs(n_samples=300, centers=3, random_state=321)\n",
    "df = pd.DataFrame(X_, columns=['x1','x2'])\n",
    "df.head()"
   ]
  },
  {
   "cell_type": "code",
   "execution_count": 6,
   "id": "10e7b8cf-236d-4d87-a59e-43c63c33aa95",
   "metadata": {},
   "outputs": [
    {
     "data": {
      "text/html": [
       "<div>\n",
       "<style scoped>\n",
       "    .dataframe tbody tr th:only-of-type {\n",
       "        vertical-align: middle;\n",
       "    }\n",
       "\n",
       "    .dataframe tbody tr th {\n",
       "        vertical-align: top;\n",
       "    }\n",
       "\n",
       "    .dataframe thead th {\n",
       "        text-align: right;\n",
       "    }\n",
       "</style>\n",
       "<table border=\"1\" class=\"dataframe\">\n",
       "  <thead>\n",
       "    <tr style=\"text-align: right;\">\n",
       "      <th></th>\n",
       "      <th>x1</th>\n",
       "      <th>x2</th>\n",
       "    </tr>\n",
       "  </thead>\n",
       "  <tbody>\n",
       "    <tr>\n",
       "      <th>0</th>\n",
       "      <td>7.793419</td>\n",
       "      <td>-7.149916</td>\n",
       "    </tr>\n",
       "    <tr>\n",
       "      <th>1</th>\n",
       "      <td>8.783409</td>\n",
       "      <td>-9.979164</td>\n",
       "    </tr>\n",
       "    <tr>\n",
       "      <th>2</th>\n",
       "      <td>7.467731</td>\n",
       "      <td>1.424818</td>\n",
       "    </tr>\n",
       "    <tr>\n",
       "      <th>3</th>\n",
       "      <td>9.204612</td>\n",
       "      <td>-5.804796</td>\n",
       "    </tr>\n",
       "    <tr>\n",
       "      <th>4</th>\n",
       "      <td>10.242530</td>\n",
       "      <td>-3.605225</td>\n",
       "    </tr>\n",
       "  </tbody>\n",
       "</table>\n",
       "</div>"
      ],
      "text/plain": [
       "          x1        x2\n",
       "0   7.793419 -7.149916\n",
       "1   8.783409 -9.979164\n",
       "2   7.467731  1.424818\n",
       "3   9.204612 -5.804796\n",
       "4  10.242530 -3.605225"
      ]
     },
     "execution_count": 6,
     "metadata": {},
     "output_type": "execute_result"
    }
   ],
   "source": [
    "# Define the original features\n",
    "X = df[['x1','x2']]\n",
    "X.head()"
   ]
  },
  {
   "cell_type": "code",
   "execution_count": 7,
   "id": "4246b3ab-cee8-44dd-a7bc-e0a3a4bdc7f1",
   "metadata": {},
   "outputs": [
    {
     "data": {
      "text/html": [
       "<style>#sk-container-id-1 {color: black;background-color: white;}#sk-container-id-1 pre{padding: 0;}#sk-container-id-1 div.sk-toggleable {background-color: white;}#sk-container-id-1 label.sk-toggleable__label {cursor: pointer;display: block;width: 100%;margin-bottom: 0;padding: 0.3em;box-sizing: border-box;text-align: center;}#sk-container-id-1 label.sk-toggleable__label-arrow:before {content: \"▸\";float: left;margin-right: 0.25em;color: #696969;}#sk-container-id-1 label.sk-toggleable__label-arrow:hover:before {color: black;}#sk-container-id-1 div.sk-estimator:hover label.sk-toggleable__label-arrow:before {color: black;}#sk-container-id-1 div.sk-toggleable__content {max-height: 0;max-width: 0;overflow: hidden;text-align: left;background-color: #f0f8ff;}#sk-container-id-1 div.sk-toggleable__content pre {margin: 0.2em;color: black;border-radius: 0.25em;background-color: #f0f8ff;}#sk-container-id-1 input.sk-toggleable__control:checked~div.sk-toggleable__content {max-height: 200px;max-width: 100%;overflow: auto;}#sk-container-id-1 input.sk-toggleable__control:checked~label.sk-toggleable__label-arrow:before {content: \"▾\";}#sk-container-id-1 div.sk-estimator input.sk-toggleable__control:checked~label.sk-toggleable__label {background-color: #d4ebff;}#sk-container-id-1 div.sk-label input.sk-toggleable__control:checked~label.sk-toggleable__label {background-color: #d4ebff;}#sk-container-id-1 input.sk-hidden--visually {border: 0;clip: rect(1px 1px 1px 1px);clip: rect(1px, 1px, 1px, 1px);height: 1px;margin: -1px;overflow: hidden;padding: 0;position: absolute;width: 1px;}#sk-container-id-1 div.sk-estimator {font-family: monospace;background-color: #f0f8ff;border: 1px dotted black;border-radius: 0.25em;box-sizing: border-box;margin-bottom: 0.5em;}#sk-container-id-1 div.sk-estimator:hover {background-color: #d4ebff;}#sk-container-id-1 div.sk-parallel-item::after {content: \"\";width: 100%;border-bottom: 1px solid gray;flex-grow: 1;}#sk-container-id-1 div.sk-label:hover label.sk-toggleable__label {background-color: #d4ebff;}#sk-container-id-1 div.sk-serial::before {content: \"\";position: absolute;border-left: 1px solid gray;box-sizing: border-box;top: 0;bottom: 0;left: 50%;z-index: 0;}#sk-container-id-1 div.sk-serial {display: flex;flex-direction: column;align-items: center;background-color: white;padding-right: 0.2em;padding-left: 0.2em;position: relative;}#sk-container-id-1 div.sk-item {position: relative;z-index: 1;}#sk-container-id-1 div.sk-parallel {display: flex;align-items: stretch;justify-content: center;background-color: white;position: relative;}#sk-container-id-1 div.sk-item::before, #sk-container-id-1 div.sk-parallel-item::before {content: \"\";position: absolute;border-left: 1px solid gray;box-sizing: border-box;top: 0;bottom: 0;left: 50%;z-index: -1;}#sk-container-id-1 div.sk-parallel-item {display: flex;flex-direction: column;z-index: 1;position: relative;background-color: white;}#sk-container-id-1 div.sk-parallel-item:first-child::after {align-self: flex-end;width: 50%;}#sk-container-id-1 div.sk-parallel-item:last-child::after {align-self: flex-start;width: 50%;}#sk-container-id-1 div.sk-parallel-item:only-child::after {width: 0;}#sk-container-id-1 div.sk-dashed-wrapped {border: 1px dashed gray;margin: 0 0.4em 0.5em 0.4em;box-sizing: border-box;padding-bottom: 0.4em;background-color: white;}#sk-container-id-1 div.sk-label label {font-family: monospace;font-weight: bold;display: inline-block;line-height: 1.2em;}#sk-container-id-1 div.sk-label-container {text-align: center;}#sk-container-id-1 div.sk-container {/* jupyter's `normalize.less` sets `[hidden] { display: none; }` but bootstrap.min.css set `[hidden] { display: none !important; }` so we also need the `!important` here to be able to override the default hidden behavior on the sphinx rendered scikit-learn.org. See: https://github.com/scikit-learn/scikit-learn/issues/21755 */display: inline-block !important;position: relative;}#sk-container-id-1 div.sk-text-repr-fallback {display: none;}</style><div id=\"sk-container-id-1\" class=\"sk-top-container\"><div class=\"sk-text-repr-fallback\"><pre>IsolationForest(contamination=0.05, random_state=42)</pre><b>In a Jupyter environment, please rerun this cell to show the HTML representation or trust the notebook. <br />On GitHub, the HTML representation is unable to render, please try loading this page with nbviewer.org.</b></div><div class=\"sk-container\" hidden><div class=\"sk-item\"><div class=\"sk-estimator sk-toggleable\"><input class=\"sk-toggleable__control sk-hidden--visually\" id=\"sk-estimator-id-1\" type=\"checkbox\" checked><label for=\"sk-estimator-id-1\" class=\"sk-toggleable__label sk-toggleable__label-arrow\">IsolationForest</label><div class=\"sk-toggleable__content\"><pre>IsolationForest(contamination=0.05, random_state=42)</pre></div></div></div></div></div>"
      ],
      "text/plain": [
       "IsolationForest(contamination=0.05, random_state=42)"
      ]
     },
     "execution_count": 7,
     "metadata": {},
     "output_type": "execute_result"
    }
   ],
   "source": [
    "# Isolation Forest\n",
    "\n",
    "# Instantiate the model with a contaimination of 0.05 (we will identify 5% as anamolous)\n",
    "iso_05 = IsolationForest(contamination=0.05, random_state = 42)\n",
    "# fit the model using .values to avoid a warning\n",
    "iso_05.fit(X.values)"
   ]
  },
  {
   "cell_type": "code",
   "execution_count": 8,
   "id": "4f83c10a-85a9-41a1-aba2-45011403601e",
   "metadata": {},
   "outputs": [
    {
     "data": {
      "text/plain": [
       "array([ 1,  1,  1,  1,  1,  1,  1,  1,  1,  1,  1,  1,  1,  1,  1,  1,  1,\n",
       "        1,  1,  1,  1,  1,  1,  1,  1,  1,  1,  1,  1,  1,  1,  1,  1,  1,\n",
       "        1,  1,  1,  1,  1,  1,  1,  1,  1,  1,  1,  1,  1,  1,  1,  1,  1,\n",
       "        1,  1,  1,  1,  1,  1,  1,  1,  1,  1,  1,  1,  1,  1,  1,  1,  1,\n",
       "       -1,  1,  1,  1,  1,  1,  1,  1,  1,  1,  1,  1,  1,  1,  1,  1,  1,\n",
       "        1,  1, -1,  1,  1,  1,  1,  1,  1, -1,  1,  1, -1,  1,  1])"
      ]
     },
     "execution_count": 8,
     "metadata": {},
     "output_type": "execute_result"
    }
   ],
   "source": [
    "# Obtain results from the model\n",
    "predictions = iso_05.predict(X.values)\n",
    "predictions[:100]"
   ]
  },
  {
   "cell_type": "code",
   "execution_count": 9,
   "id": "be8316f0-e5c8-43d1-8fb0-2b49cb79ff94",
   "metadata": {},
   "outputs": [
    {
     "data": {
      "text/plain": [
       "array([0, 0, 0, 0, 0, 0, 0, 0, 0, 0, 0, 0, 0, 0, 0, 0, 0, 0, 0, 0, 0, 0,\n",
       "       0, 0, 0, 0, 0, 0, 0, 0, 0, 0, 0, 0, 0, 0, 0, 0, 0, 0, 0, 0, 0, 0,\n",
       "       0, 0, 0, 0, 0, 0, 0, 0, 0, 0, 0, 0, 0, 0, 0, 0, 0, 0, 0, 0, 0, 0,\n",
       "       0, 0, 1, 0, 0, 0, 0, 0, 0, 0, 0, 0, 0, 0, 0, 0, 0, 0, 0, 0, 0, 1,\n",
       "       0, 0, 0, 0, 0, 0, 1, 0, 0, 1, 0, 0])"
      ]
     },
     "execution_count": 9,
     "metadata": {},
     "output_type": "execute_result"
    }
   ],
   "source": [
    "# Change the labels to match our columns from the kmeans dataframe\n",
    "# Not anamolies\n",
    "predictions[predictions ==1] = 0\n",
    "# Anomalies\n",
    "predictions[predictions ==-1] = 1\n",
    "# Preview new labels\n",
    "predictions[:100]"
   ]
  },
  {
   "cell_type": "code",
   "execution_count": 10,
   "id": "1d9f2a26-8b07-4951-b31d-d8196ebbf321",
   "metadata": {},
   "outputs": [
    {
     "data": {
      "text/html": [
       "<div>\n",
       "<style scoped>\n",
       "    .dataframe tbody tr th:only-of-type {\n",
       "        vertical-align: middle;\n",
       "    }\n",
       "\n",
       "    .dataframe tbody tr th {\n",
       "        vertical-align: top;\n",
       "    }\n",
       "\n",
       "    .dataframe thead th {\n",
       "        text-align: right;\n",
       "    }\n",
       "</style>\n",
       "<table border=\"1\" class=\"dataframe\">\n",
       "  <thead>\n",
       "    <tr style=\"text-align: right;\">\n",
       "      <th></th>\n",
       "      <th>x1</th>\n",
       "      <th>x2</th>\n",
       "      <th>anomaly-iso_05</th>\n",
       "    </tr>\n",
       "  </thead>\n",
       "  <tbody>\n",
       "    <tr>\n",
       "      <th>0</th>\n",
       "      <td>7.793419</td>\n",
       "      <td>-7.149916</td>\n",
       "      <td>0</td>\n",
       "    </tr>\n",
       "    <tr>\n",
       "      <th>1</th>\n",
       "      <td>8.783409</td>\n",
       "      <td>-9.979164</td>\n",
       "      <td>0</td>\n",
       "    </tr>\n",
       "    <tr>\n",
       "      <th>2</th>\n",
       "      <td>7.467731</td>\n",
       "      <td>1.424818</td>\n",
       "      <td>0</td>\n",
       "    </tr>\n",
       "    <tr>\n",
       "      <th>3</th>\n",
       "      <td>9.204612</td>\n",
       "      <td>-5.804796</td>\n",
       "      <td>0</td>\n",
       "    </tr>\n",
       "    <tr>\n",
       "      <th>4</th>\n",
       "      <td>10.242530</td>\n",
       "      <td>-3.605225</td>\n",
       "      <td>0</td>\n",
       "    </tr>\n",
       "  </tbody>\n",
       "</table>\n",
       "</div>"
      ],
      "text/plain": [
       "          x1        x2  anomaly-iso_05\n",
       "0   7.793419 -7.149916               0\n",
       "1   8.783409 -9.979164               0\n",
       "2   7.467731  1.424818               0\n",
       "3   9.204612 -5.804796               0\n",
       "4  10.242530 -3.605225               0"
      ]
     },
     "execution_count": 10,
     "metadata": {},
     "output_type": "execute_result"
    }
   ],
   "source": [
    "# Add isolation forest predictions to the dataframe\n",
    "df['anomaly-iso_05'] = predictions\n",
    "# Preview dataframe with new column\n",
    "df.head()"
   ]
  },
  {
   "cell_type": "code",
   "execution_count": 11,
   "id": "b1ca9181-d42a-4549-ad30-454867e51465",
   "metadata": {},
   "outputs": [
    {
     "ename": "KeyError",
     "evalue": "'anomaly-kmeans'",
     "output_type": "error",
     "traceback": [
      "\u001b[0;31m---------------------------------------------------------------------------\u001b[0m",
      "\u001b[0;31mKeyError\u001b[0m                                  Traceback (most recent call last)",
      "File \u001b[0;32m~/anaconda3/envs/dojo-env/lib/python3.10/site-packages/pandas/core/indexes/base.py:3802\u001b[0m, in \u001b[0;36mIndex.get_loc\u001b[0;34m(self, key, method, tolerance)\u001b[0m\n\u001b[1;32m   3801\u001b[0m \u001b[38;5;28;01mtry\u001b[39;00m:\n\u001b[0;32m-> 3802\u001b[0m     \u001b[38;5;28;01mreturn\u001b[39;00m \u001b[38;5;28;43mself\u001b[39;49m\u001b[38;5;241;43m.\u001b[39;49m\u001b[43m_engine\u001b[49m\u001b[38;5;241;43m.\u001b[39;49m\u001b[43mget_loc\u001b[49m\u001b[43m(\u001b[49m\u001b[43mcasted_key\u001b[49m\u001b[43m)\u001b[49m\n\u001b[1;32m   3803\u001b[0m \u001b[38;5;28;01mexcept\u001b[39;00m \u001b[38;5;167;01mKeyError\u001b[39;00m \u001b[38;5;28;01mas\u001b[39;00m err:\n",
      "File \u001b[0;32m~/anaconda3/envs/dojo-env/lib/python3.10/site-packages/pandas/_libs/index.pyx:138\u001b[0m, in \u001b[0;36mpandas._libs.index.IndexEngine.get_loc\u001b[0;34m()\u001b[0m\n",
      "File \u001b[0;32m~/anaconda3/envs/dojo-env/lib/python3.10/site-packages/pandas/_libs/index.pyx:165\u001b[0m, in \u001b[0;36mpandas._libs.index.IndexEngine.get_loc\u001b[0;34m()\u001b[0m\n",
      "File \u001b[0;32mpandas/_libs/hashtable_class_helper.pxi:5745\u001b[0m, in \u001b[0;36mpandas._libs.hashtable.PyObjectHashTable.get_item\u001b[0;34m()\u001b[0m\n",
      "File \u001b[0;32mpandas/_libs/hashtable_class_helper.pxi:5753\u001b[0m, in \u001b[0;36mpandas._libs.hashtable.PyObjectHashTable.get_item\u001b[0;34m()\u001b[0m\n",
      "\u001b[0;31mKeyError\u001b[0m: 'anomaly-kmeans'",
      "\nThe above exception was the direct cause of the following exception:\n",
      "\u001b[0;31mKeyError\u001b[0m                                  Traceback (most recent call last)",
      "Cell \u001b[0;32mIn[11], line 2\u001b[0m\n\u001b[1;32m      1\u001b[0m \u001b[38;5;66;03m# Comparing number of anomalies found\u001b[39;00m\n\u001b[0;32m----> 2\u001b[0m kmeans_anomalies \u001b[38;5;241m=\u001b[39m \u001b[43mdf\u001b[49m\u001b[43m[\u001b[49m\u001b[38;5;124;43m'\u001b[39;49m\u001b[38;5;124;43manomaly-kmeans\u001b[39;49m\u001b[38;5;124;43m'\u001b[39;49m\u001b[43m]\u001b[49m\u001b[38;5;241m.\u001b[39msum()\n\u001b[1;32m      3\u001b[0m \u001b[38;5;28mprint\u001b[39m(\u001b[38;5;124mf\u001b[39m\u001b[38;5;124m'\u001b[39m\u001b[38;5;124mKmeans (threshold = 0.95) identified \u001b[39m\u001b[38;5;132;01m{\u001b[39;00mkmeans_anomalies\u001b[38;5;132;01m}\u001b[39;00m\u001b[38;5;124m anomalies.\u001b[39m\u001b[38;5;124m'\u001b[39m)\n\u001b[1;32m      4\u001b[0m isoforest_anomalies \u001b[38;5;241m=\u001b[39m df[\u001b[38;5;124m'\u001b[39m\u001b[38;5;124manomaly-iso_05\u001b[39m\u001b[38;5;124m'\u001b[39m]\u001b[38;5;241m.\u001b[39msum()\n",
      "File \u001b[0;32m~/anaconda3/envs/dojo-env/lib/python3.10/site-packages/pandas/core/frame.py:3807\u001b[0m, in \u001b[0;36mDataFrame.__getitem__\u001b[0;34m(self, key)\u001b[0m\n\u001b[1;32m   3805\u001b[0m \u001b[38;5;28;01mif\u001b[39;00m \u001b[38;5;28mself\u001b[39m\u001b[38;5;241m.\u001b[39mcolumns\u001b[38;5;241m.\u001b[39mnlevels \u001b[38;5;241m>\u001b[39m \u001b[38;5;241m1\u001b[39m:\n\u001b[1;32m   3806\u001b[0m     \u001b[38;5;28;01mreturn\u001b[39;00m \u001b[38;5;28mself\u001b[39m\u001b[38;5;241m.\u001b[39m_getitem_multilevel(key)\n\u001b[0;32m-> 3807\u001b[0m indexer \u001b[38;5;241m=\u001b[39m \u001b[38;5;28;43mself\u001b[39;49m\u001b[38;5;241;43m.\u001b[39;49m\u001b[43mcolumns\u001b[49m\u001b[38;5;241;43m.\u001b[39;49m\u001b[43mget_loc\u001b[49m\u001b[43m(\u001b[49m\u001b[43mkey\u001b[49m\u001b[43m)\u001b[49m\n\u001b[1;32m   3808\u001b[0m \u001b[38;5;28;01mif\u001b[39;00m is_integer(indexer):\n\u001b[1;32m   3809\u001b[0m     indexer \u001b[38;5;241m=\u001b[39m [indexer]\n",
      "File \u001b[0;32m~/anaconda3/envs/dojo-env/lib/python3.10/site-packages/pandas/core/indexes/base.py:3804\u001b[0m, in \u001b[0;36mIndex.get_loc\u001b[0;34m(self, key, method, tolerance)\u001b[0m\n\u001b[1;32m   3802\u001b[0m     \u001b[38;5;28;01mreturn\u001b[39;00m \u001b[38;5;28mself\u001b[39m\u001b[38;5;241m.\u001b[39m_engine\u001b[38;5;241m.\u001b[39mget_loc(casted_key)\n\u001b[1;32m   3803\u001b[0m \u001b[38;5;28;01mexcept\u001b[39;00m \u001b[38;5;167;01mKeyError\u001b[39;00m \u001b[38;5;28;01mas\u001b[39;00m err:\n\u001b[0;32m-> 3804\u001b[0m     \u001b[38;5;28;01mraise\u001b[39;00m \u001b[38;5;167;01mKeyError\u001b[39;00m(key) \u001b[38;5;28;01mfrom\u001b[39;00m \u001b[38;5;21;01merr\u001b[39;00m\n\u001b[1;32m   3805\u001b[0m \u001b[38;5;28;01mexcept\u001b[39;00m \u001b[38;5;167;01mTypeError\u001b[39;00m:\n\u001b[1;32m   3806\u001b[0m     \u001b[38;5;66;03m# If we have a listlike key, _check_indexing_error will raise\u001b[39;00m\n\u001b[1;32m   3807\u001b[0m     \u001b[38;5;66;03m#  InvalidIndexError. Otherwise we fall through and re-raise\u001b[39;00m\n\u001b[1;32m   3808\u001b[0m     \u001b[38;5;66;03m#  the TypeError.\u001b[39;00m\n\u001b[1;32m   3809\u001b[0m     \u001b[38;5;28mself\u001b[39m\u001b[38;5;241m.\u001b[39m_check_indexing_error(key)\n",
      "\u001b[0;31mKeyError\u001b[0m: 'anomaly-kmeans'"
     ]
    }
   ],
   "source": [
    "# Comparing number of anomalies found\n",
    "kmeans_anomalies = df['anomaly-kmeans'].sum()\n",
    "print(f'Kmeans (threshold = 0.95) identified {kmeans_anomalies} anomalies.')\n",
    "isoforest_anomalies = df['anomaly-iso_05'].sum()\n",
    "print(f'Isoforest (contaminatin = 0.05) identified {isoforest_anomalies} anomalies.')"
   ]
  },
  {
   "cell_type": "code",
   "execution_count": null,
   "id": "dd0f6f1e-59f5-40a0-904e-c981808d2317",
   "metadata": {},
   "outputs": [],
   "source": [
    "# Plot the original data points\n",
    "fig, ax = plt.subplots(figsize=(8, 8))\n",
    "ax.scatter(df['x1'], df['x2'], ec= 'black', alpha = 0.5)\n",
    "ax.set_title(\"Identified Anomalies\")  \n",
    "    \n",
    "# Plot the anomalies identified by the isolation forest\n",
    "df.loc[idx_anomalies].plot(\n",
    "    x=\"x1\", y=\"x2\", kind=\"scatter\", color=\"magenta\", label=\"Anomalies (Isolation Forest)\", \n",
    "    ax=ax, marker='P', s=50);"
   ]
  },
  {
   "cell_type": "code",
   "execution_count": null,
   "id": "d0b739a1-e54c-43ce-b09b-8ecc90e74cde",
   "metadata": {},
   "outputs": [],
   "source": [
    "# Define anomalies identified by kmeans\n",
    "kmeans_95_anomalies = df[df['anomaly-kmeans'] == 1]\n",
    "# Define anomalies identified by isolation forest\n",
    "iso_05_anomalies = df[df['anomaly-iso_05'] == 1]\n",
    "# Define anomalies identified by both models\n",
    "both_anomalies = df[(df['anomaly-iso_05'] == 1)& (df['anomaly-kmeans'] == 1)]\n",
    "# Plot the data points and identified clusters\n",
    "fig, ax= plt.subplots(figsize=(8, 8))\n",
    "# Plot data\n",
    "ax.scatter(df[\"x1\"], df[\"x2\"], ec = 'black', alpha=0.5)\n",
    "ax.set_title(\"Comparing Models\")\n",
    "# Annotate KMeans anomalies\n",
    "kmeans_95_anomalies.plot(x=\"x1\", y=\"x2\", kind=\"scatter\", color=\"magenta\", label=\"Anomalies only KMeans Distance\", ax=ax, marker='P',s=50)\n",
    "# Annotate Iso Forest anomalies\n",
    "iso_05_anomalies.plot(x=\"x1\", y=\"x2\", kind=\"scatter\", color=\"blue\", label=\"Anomalies only Isolation Forest\", ax=ax, marker='P',s=50)\n",
    "# Annotate Anomolies identified by both models\n",
    "both_anomalies.plot(x=\"x1\", y=\"x2\", kind=\"scatter\", color=\"red\", label=\"Anomalies Models Agree on\", ax=ax, marker='P',s=50);"
   ]
  },
  {
   "cell_type": "code",
   "execution_count": null,
   "id": "b3dc311d-2538-41eb-91ab-2d5ee82e2297",
   "metadata": {},
   "outputs": [],
   "source": [
    "# Change Contamination Parameter\n",
    "\n",
    "# Instantiate the model with a contaimination of 0.20 (we will identify 20% as anamolous)\n",
    "iso_20 = IsolationForest(contamination=0.20, random_state = 42)\n",
    "# fit the model using .values to avoid a warning\n",
    "iso_20.fit(X.values)\n",
    "# Obtain results from the model\n",
    "predictions = iso_20.predict(X.values)\n",
    "predictions[:100]"
   ]
  },
  {
   "cell_type": "code",
   "execution_count": null,
   "id": "3b328c45-12c6-431a-a908-7ff98a4d7674",
   "metadata": {},
   "outputs": [],
   "source": [
    "# Change the labels to match our columns from the kmeans dataframe\n",
    "# Not anamolies\n",
    "predictions[predictions ==1] = 0\n",
    "# Anomalies\n",
    "predictions[predictions ==-1] = 1\n",
    "# Add isolation forest predictions to the dataframe\n",
    "df['anomaly-iso_20'] = predictions\n",
    "# Preview dataframe with new column\n",
    "df.head()"
   ]
  },
  {
   "cell_type": "code",
   "execution_count": null,
   "id": "291a634d-10fb-4228-bcee-305a8c83f788",
   "metadata": {},
   "outputs": [],
   "source": [
    "# Comparing number of anomalies found with different contamination values\n",
    "isoforest_anomalies_05 = df['anomaly-iso_05'].sum()\n",
    "print(f'Isoforest (contaminatin = 0.05) identified {isoforest_anomalies_05} anomalies.')\n",
    "isoforest_anomalies_20 = df['anomaly-iso_20'].sum()\n",
    "print(f'Isoforest (contaminatin = 0.20) identified {isoforest_anomalies_20} anomalies.')"
   ]
  },
  {
   "cell_type": "code",
   "execution_count": null,
   "id": "847af040-2149-47a2-ac74-ed1e739ad228",
   "metadata": {},
   "outputs": [],
   "source": [
    "# Create a filter to identify anomalies\n",
    "idx_anomalies = df[df['anomaly-iso_20'] == 1].index\n",
    "idx_anomalies\n",
    "# Plot the original data points\n",
    "fig, ax = plt.subplots(figsize=(8, 8))\n",
    "ax.scatter(df['x1'], df['x2'], ec= 'black', alpha = 0.5)\n",
    "ax.set_title(\"Identified Anomalies\")  \n",
    "    \n",
    "# Plot the anomalies identified by the isolation forest\n",
    "df.loc[idx_anomalies].plot(\n",
    "    x=\"x1\", y=\"x2\", kind=\"scatter\", color=\"magenta\", label=\"Anomalies (Isolation Forest)\", \n",
    "    ax=ax, marker='P', s=50);"
   ]
  },
  {
   "cell_type": "code",
   "execution_count": null,
   "id": "8d385da8-fb2b-4ec8-8626-c80bddcea37e",
   "metadata": {},
   "outputs": [],
   "source": []
  }
 ],
 "metadata": {
  "kernelspec": {
   "display_name": "Python (dojo-env)",
   "language": "python",
   "name": "dojo-env"
  },
  "language_info": {
   "codemirror_mode": {
    "name": "ipython",
    "version": 3
   },
   "file_extension": ".py",
   "mimetype": "text/x-python",
   "name": "python",
   "nbconvert_exporter": "python",
   "pygments_lexer": "ipython3",
   "version": "3.10.10"
  }
 },
 "nbformat": 4,
 "nbformat_minor": 5
}
