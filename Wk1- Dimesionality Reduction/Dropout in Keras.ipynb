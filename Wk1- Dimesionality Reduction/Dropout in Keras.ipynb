{
 "cells": [
  {
   "cell_type": "code",
   "execution_count": null,
   "id": "34785f14-84ce-475a-8d00-7c80adeb3b43",
   "metadata": {},
   "outputs": [],
   "source": [
    "# Imports\n",
    "import numpy as np\n",
    "import matplotlib.pyplot as plt\n",
    "import pandas as pd\n",
    "from sklearn.model_selection import train_test_split\n",
    "from sklearn.preprocessing import StandardScaler, LabelEncoder\n",
    "import tensorflow as tf\n",
    "from tensorflow.keras.models import Sequential\n",
    "from tensorflow.keras.layers import Dense, Dropout"
   ]
  },
  {
   "cell_type": "code",
   "execution_count": null,
   "id": "5773bd9f-9659-4b47-a6f7-08ac09b3750e",
   "metadata": {},
   "outputs": [],
   "source": [
    "def plot_history(history, figsize=(6,12), marker='o'):\n",
    "       \n",
    "    # Get list of metrics from history\n",
    "    metrics = [c for c in history.history if not c.startswith('val_')]\n",
    "    \n",
    "    ## Separate row for each metric\n",
    "    fig, axes = plt.subplots(nrows=len(metrics),figsize=figsize)\n",
    "    \n",
    "    \n",
    "    # For each metric\n",
    "    for i, metric_name in enumerate(metrics):\n",
    "        # Get the axis for the current metric\n",
    "        if len(metrics)==1:\n",
    "            ax = axes\n",
    "        else:\n",
    "            ax = axes[i]\n",
    "    \n",
    "        # Get metric from history.history\n",
    "        metric_values = history.history[metric_name]\n",
    "        # Get epochs from history\n",
    "        epochs = history.epoch\n",
    "    \n",
    "        # Plot the training metric\n",
    "        ax.plot(epochs, metric_values, label=metric_name, marker=marker)\n",
    "    \n",
    "        ## Check if val_{metric} exists. if so, plot:\n",
    "        val_metric_name = f\"val_{metric_name}\"\n",
    "        if val_metric_name in history.history:\n",
    "            # Get validation values and plot\n",
    "            metric_values = history.history[val_metric_name]\n",
    "            ax.plot(epochs,metric_values,label=val_metric_name, marker=marker)\n",
    "    \n",
    "        # Final subplot adjustments \n",
    "        ax.legend()\n",
    "        ax.set_title(metric_name)\n",
    "    fig.tight_layout()\n",
    "    return fig, axes"
   ]
  },
  {
   "cell_type": "code",
   "execution_count": null,
   "id": "13518262-4908-4328-a312-19cd0158bb1f",
   "metadata": {},
   "outputs": [],
   "source": [
    "df = pd.read_csv('Data/nba.csv', index_col = 'Name')\n",
    "df.head()"
   ]
  },
  {
   "cell_type": "code",
   "execution_count": null,
   "id": "5f884e5f-4953-4abd-b825-9e70b2556dc5",
   "metadata": {},
   "outputs": [],
   "source": [
    "df.isna().sum().sum()"
   ]
  },
  {
   "cell_type": "code",
   "execution_count": null,
   "id": "bd129239-d0e8-4bff-8313-e7fc125ffd6a",
   "metadata": {},
   "outputs": [],
   "source": [
    "df.dropna(inplace = True)"
   ]
  },
  {
   "cell_type": "code",
   "execution_count": null,
   "id": "11240966-1951-4c1c-aac1-85ee303e6987",
   "metadata": {},
   "outputs": [],
   "source": [
    "target = 'TARGET_5Yrs'\n",
    "X = df.drop(columns = target)\n",
    "y = df[target]\n",
    "# Train test_Val split\n",
    "X_train, X_test_val, y_train, y_test_val = train_test_split(X, y, test_size = .3, random_state=42)"
   ]
  },
  {
   "cell_type": "code",
   "execution_count": null,
   "id": "db02168e-7d30-430d-9227-3a7e15236489",
   "metadata": {},
   "outputs": [],
   "source": [
    "# Split the X_test_val into test and val data \n",
    "X_val, X_test, y_val, y_test = train_test_split(X_test_val, y_test_val, test_size = .5, random_state=42)"
   ]
  },
  {
   "cell_type": "code",
   "execution_count": null,
   "id": "eeaeb65d-b260-479f-b51a-b1566fb1801d",
   "metadata": {},
   "outputs": [],
   "source": [
    "# Scale our data\n",
    "scaler = StandardScaler()\n",
    "X_train = scaler.fit_transform(X_train)\n",
    "X_test = scaler.transform(X_test)\n",
    "X_val = scaler.transform(X_val)"
   ]
  },
  {
   "cell_type": "code",
   "execution_count": null,
   "id": "114d866e-5b38-48f2-b06f-ee0143213788",
   "metadata": {},
   "outputs": [],
   "source": [
    "# Step 1: Define our network structure\n",
    "# Save the number of features we have as our input shape\n",
    "input_shape = X_train.shape[1]\n",
    "input_shape"
   ]
  },
  {
   "cell_type": "code",
   "execution_count": null,
   "id": "ffd01e36-e711-47fe-bc43-75aba7ea9a26",
   "metadata": {},
   "outputs": [],
   "source": [
    "# Without dropout\n",
    "# Sequential model\n",
    "model = Sequential()\n",
    "# First hidden layer\n",
    "model.add(Dense(19, # How many neurons you have in your first hidden layer\n",
    "                input_dim = input_shape, # What is the shape of your input features (number of columns)\n",
    "                activation = 'relu')) # What activation function are you using?\n",
    "model.add(Dense(10, \n",
    "                activation = 'relu'))\n",
    "model.add(Dense(1, activation = 'sigmoid'))\n",
    "model.compile(loss = 'bce', optimizer = 'adam',\n",
    "              metrics=['accuracy',\n",
    "                         tf.keras.metrics.Recall(name='recall'),\n",
    "                         tf.keras.metrics.Precision(name='precision'),\n",
    "                        ])\n",
    "model.summary()"
   ]
  },
  {
   "cell_type": "code",
   "execution_count": null,
   "id": "cf373420-0100-4399-9bdc-9290460e7ac8",
   "metadata": {},
   "outputs": [],
   "source": [
    "# Fit the model\n",
    "history = model.fit(X_train, y_train,\n",
    "                    validation_data= (X_val, y_val), \n",
    "                    epochs=50)"
   ]
  },
  {
   "cell_type": "code",
   "execution_count": null,
   "id": "ebbccae4-04ca-4464-8b5b-442b9a41f033",
   "metadata": {},
   "outputs": [],
   "source": [
    "# Visualize the results\n",
    "plot_history(history, marker='.');"
   ]
  },
  {
   "cell_type": "code",
   "execution_count": null,
   "id": "b2a67fc7-9ad1-4094-ba46-0e1bdb12ee5e",
   "metadata": {},
   "outputs": [],
   "source": [
    "# Evaluate neural network with built in evaluation\n",
    "result = model.evaluate(X_test, y_test, return_dict=True)\n",
    "result"
   ]
  },
  {
   "cell_type": "code",
   "execution_count": null,
   "id": "e992edf1-0721-4b61-845d-e6a8ccee98e3",
   "metadata": {},
   "outputs": [],
   "source": [
    "# Sequential model\n",
    "model = Sequential()\n",
    "# First hidden layer\n",
    "model.add(Dense(19, # How many neurons you have in your first hidden layer\n",
    "                input_dim = input_shape, # What is the shape of your input features (number of columns)\n",
    "                activation = 'relu')) # What activation function are you using?\n",
    "model.add(Dense(10, \n",
    "                activation = 'relu'))\n",
    "model.add(Dropout(0.5))\n",
    "model.add(Dense(1, activation = 'sigmoid'))\n",
    "model.compile(loss = 'bce', optimizer = 'adam',\n",
    "             metrics=['accuracy',\n",
    "                         tf.keras.metrics.Recall(name='recall'),\n",
    "                         tf.keras.metrics.Precision(name='precision')])\n",
    "history = model.fit(X_train, y_train,\n",
    "                    validation_data = (X_val, y_val), \n",
    "                    epochs=50)"
   ]
  },
  {
   "cell_type": "code",
   "execution_count": null,
   "id": "2f7e8afb-d02a-4171-91ea-b3301c597915",
   "metadata": {},
   "outputs": [],
   "source": [
    "# Visualize the results\n",
    "plot_history(history, marker='.');"
   ]
  },
  {
   "cell_type": "code",
   "execution_count": null,
   "id": "28ad55d7-fdc1-4823-98c9-3dfefc61e183",
   "metadata": {},
   "outputs": [],
   "source": [
    "# Evaluate neural network with built in evaluation\n",
    "result = model.evaluate(X_test, y_test, return_dict=True)\n",
    "result"
   ]
  }
 ],
 "metadata": {
  "kernelspec": {
   "display_name": "Python (dojo-env)",
   "language": "python",
   "name": "dojo-env"
  },
  "language_info": {
   "codemirror_mode": {
    "name": "ipython",
    "version": 3
   },
   "file_extension": ".py",
   "mimetype": "text/x-python",
   "name": "python",
   "nbconvert_exporter": "python",
   "pygments_lexer": "ipython3",
   "version": "3.10.10"
  }
 },
 "nbformat": 4,
 "nbformat_minor": 5
}
